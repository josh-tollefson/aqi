{
 "cells": [
  {
   "cell_type": "code",
   "execution_count": 1,
   "metadata": {
    "ExecuteTime": {
     "end_time": "2020-10-13T22:00:42.564362Z",
     "start_time": "2020-10-13T22:00:42.553618Z"
    },
    "colab": {
     "base_uri": "https://localhost:8080/",
     "height": 819
    },
    "executionInfo": {
     "elapsed": 12644,
     "status": "ok",
     "timestamp": 1602269227916,
     "user": {
      "displayName": "Aaron Deich",
      "photoUrl": "https://lh3.googleusercontent.com/a-/AOh14Gh-8IaCIEoKGJlLv8fkTUnzzQuFlIyZfzfWw0Yumg=s64",
      "userId": "05120099045010655638"
     },
     "user_tz": 420
    },
    "id": "nLQR3j6JA1cV",
    "outputId": "02fb52c0-8762-4cff-8a7d-3064e1027dfb"
   },
   "outputs": [],
   "source": [
    "#!pip install -r purpleair/requirements.txt\n",
    "#import purpleair\n",
    "\n"
   ]
  },
  {
   "cell_type": "code",
   "execution_count": 2,
   "metadata": {
    "ExecuteTime": {
     "end_time": "2020-10-13T22:00:46.242866Z",
     "start_time": "2020-10-13T22:00:42.572704Z"
    }
   },
   "outputs": [],
   "source": [
    "import numpy as np\n",
    "import pandas as pd\n",
    "import missingno as msno\n",
    "import time\n",
    "import os\n",
    "\n",
    "\n",
    "\n",
    "import geopandas as gpd\n",
    "from shapely.geometry import Point, Polygon\n",
    "import matplotlib.pyplot as plt\n",
    "%matplotlib inline"
   ]
  },
  {
   "cell_type": "code",
   "execution_count": 3,
   "metadata": {
    "ExecuteTime": {
     "end_time": "2020-10-13T22:00:46.279982Z",
     "start_time": "2020-10-13T22:00:46.262837Z"
    },
    "colab": {
     "base_uri": "https://localhost:8080/",
     "height": 153
    },
    "executionInfo": {
     "elapsed": 13890,
     "status": "ok",
     "timestamp": 1602269229179,
     "user": {
      "displayName": "Aaron Deich",
      "photoUrl": "https://lh3.googleusercontent.com/a-/AOh14Gh-8IaCIEoKGJlLv8fkTUnzzQuFlIyZfzfWw0Yumg=s64",
      "userId": "05120099045010655638"
     },
     "user_tz": 420
    },
    "id": "YP2Pn3CFlyOY",
    "outputId": "5fb34267-73ef-40ea-afaf-d630d0803344"
   },
   "outputs": [],
   "source": [
    "# load the states shape data\n",
    "\n",
    "def load_states_data():\n",
    "    !rm states*\n",
    "    !curl -LJO https://github.com/josh-tollefson/aqi/raw/master/notebooks/states_21basic.zip\n",
    "    !ls \n",
    "    !unzip states_21basic.zip \n",
    "    !ls\n",
    "    \n",
    "#load_states_data()"
   ]
  },
  {
   "cell_type": "code",
   "execution_count": 4,
   "metadata": {
    "ExecuteTime": {
     "end_time": "2020-10-13T22:00:46.385586Z",
     "start_time": "2020-10-13T22:00:46.290192Z"
    },
    "colab": {
     "base_uri": "https://localhost:8080/",
     "height": 174
    },
    "executionInfo": {
     "elapsed": 14394,
     "status": "ok",
     "timestamp": 1602269229697,
     "user": {
      "displayName": "Aaron Deich",
      "photoUrl": "https://lh3.googleusercontent.com/a-/AOh14Gh-8IaCIEoKGJlLv8fkTUnzzQuFlIyZfzfWw0Yumg=s64",
      "userId": "05120099045010655638"
     },
     "user_tz": 420
    },
    "id": "2eoutqCtr7YL",
    "outputId": "160ad348-70f4-429e-c917-e4ee8b9a3cf7"
   },
   "outputs": [
    {
     "data": {
      "text/html": [
       "<div>\n",
       "<style scoped>\n",
       "    .dataframe tbody tr th:only-of-type {\n",
       "        vertical-align: middle;\n",
       "    }\n",
       "\n",
       "    .dataframe tbody tr th {\n",
       "        vertical-align: top;\n",
       "    }\n",
       "\n",
       "    .dataframe thead th {\n",
       "        text-align: right;\n",
       "    }\n",
       "</style>\n",
       "<table border=\"1\" class=\"dataframe\">\n",
       "  <thead>\n",
       "    <tr style=\"text-align: right;\">\n",
       "      <th></th>\n",
       "      <th>STATE_NAME</th>\n",
       "      <th>DRAWSEQ</th>\n",
       "      <th>STATE_FIPS</th>\n",
       "      <th>SUB_REGION</th>\n",
       "      <th>STATE_ABBR</th>\n",
       "      <th>geometry</th>\n",
       "    </tr>\n",
       "  </thead>\n",
       "  <tbody>\n",
       "    <tr>\n",
       "      <th>0</th>\n",
       "      <td>Hawaii</td>\n",
       "      <td>1</td>\n",
       "      <td>15</td>\n",
       "      <td>Pacific</td>\n",
       "      <td>HI</td>\n",
       "      <td>MULTIPOLYGON (((-160.07380 22.00418, -160.0497...</td>\n",
       "    </tr>\n",
       "    <tr>\n",
       "      <th>1</th>\n",
       "      <td>Washington</td>\n",
       "      <td>2</td>\n",
       "      <td>53</td>\n",
       "      <td>Pacific</td>\n",
       "      <td>WA</td>\n",
       "      <td>MULTIPOLYGON (((-122.40202 48.22522, -122.4628...</td>\n",
       "    </tr>\n",
       "  </tbody>\n",
       "</table>\n",
       "</div>"
      ],
      "text/plain": [
       "   STATE_NAME  DRAWSEQ STATE_FIPS SUB_REGION STATE_ABBR  \\\n",
       "0      Hawaii        1         15    Pacific         HI   \n",
       "1  Washington        2         53    Pacific         WA   \n",
       "\n",
       "                                            geometry  \n",
       "0  MULTIPOLYGON (((-160.07380 22.00418, -160.0497...  \n",
       "1  MULTIPOLYGON (((-122.40202 48.22522, -122.4628...  "
      ]
     },
     "metadata": {},
     "output_type": "display_data"
    },
    {
     "data": {
      "text/html": [
       "<div>\n",
       "<style scoped>\n",
       "    .dataframe tbody tr th:only-of-type {\n",
       "        vertical-align: middle;\n",
       "    }\n",
       "\n",
       "    .dataframe tbody tr th {\n",
       "        vertical-align: top;\n",
       "    }\n",
       "\n",
       "    .dataframe thead th {\n",
       "        text-align: right;\n",
       "    }\n",
       "</style>\n",
       "<table border=\"1\" class=\"dataframe\">\n",
       "  <thead>\n",
       "    <tr style=\"text-align: right;\">\n",
       "      <th></th>\n",
       "      <th>STATE_NAME</th>\n",
       "      <th>DRAWSEQ</th>\n",
       "      <th>STATE_FIPS</th>\n",
       "      <th>SUB_REGION</th>\n",
       "      <th>STATE_ABBR</th>\n",
       "      <th>geometry</th>\n",
       "    </tr>\n",
       "  </thead>\n",
       "  <tbody>\n",
       "    <tr>\n",
       "      <th>50</th>\n",
       "      <td>Alaska</td>\n",
       "      <td>51</td>\n",
       "      <td>02</td>\n",
       "      <td>Pacific</td>\n",
       "      <td>AK</td>\n",
       "      <td>MULTIPOLYGON (((-161.33379 58.73325, -161.3824...</td>\n",
       "    </tr>\n",
       "  </tbody>\n",
       "</table>\n",
       "</div>"
      ],
      "text/plain": [
       "   STATE_NAME  DRAWSEQ STATE_FIPS SUB_REGION STATE_ABBR  \\\n",
       "50     Alaska       51         02    Pacific         AK   \n",
       "\n",
       "                                             geometry  \n",
       "50  MULTIPOLYGON (((-161.33379 58.73325, -161.3824...  "
      ]
     },
     "metadata": {},
     "output_type": "display_data"
    }
   ],
   "source": [
    "\n",
    "usa = gpd.read_file('states.shp')\n",
    "display(usa.head(2))\n",
    "display(usa.tail(1))"
   ]
  },
  {
   "cell_type": "code",
   "execution_count": 5,
   "metadata": {
    "ExecuteTime": {
     "end_time": "2020-10-13T22:01:10.288403Z",
     "start_time": "2020-10-13T22:00:46.391995Z"
    },
    "colab": {
     "base_uri": "https://localhost:8080/",
     "height": 357
    },
    "executionInfo": {
     "elapsed": 21467,
     "status": "ok",
     "timestamp": 1602269236798,
     "user": {
      "displayName": "Aaron Deich",
      "photoUrl": "https://lh3.googleusercontent.com/a-/AOh14Gh-8IaCIEoKGJlLv8fkTUnzzQuFlIyZfzfWw0Yumg=s64",
      "userId": "05120099045010655638"
     },
     "user_tz": 420
    },
    "id": "Iked2ODzB9RN",
    "outputId": "fdf4f565-cf67-45b9-9124-495ab98992f6"
   },
   "outputs": [
    {
     "name": "stdout",
     "output_type": "stream",
     "text": [
      "Initialized 13,774 sensors!\n"
     ]
    },
    {
     "data": {
      "text/html": [
       "<div>\n",
       "<style scoped>\n",
       "    .dataframe tbody tr th:only-of-type {\n",
       "        vertical-align: middle;\n",
       "    }\n",
       "\n",
       "    .dataframe tbody tr th {\n",
       "        vertical-align: top;\n",
       "    }\n",
       "\n",
       "    .dataframe thead th {\n",
       "        text-align: right;\n",
       "    }\n",
       "</style>\n",
       "<table border=\"1\" class=\"dataframe\">\n",
       "  <thead>\n",
       "    <tr style=\"text-align: right;\">\n",
       "      <th></th>\n",
       "      <th>parent</th>\n",
       "      <th>lat</th>\n",
       "      <th>lon</th>\n",
       "      <th>name</th>\n",
       "      <th>location_type</th>\n",
       "      <th>pm_2.5</th>\n",
       "      <th>temp_f</th>\n",
       "      <th>temp_c</th>\n",
       "      <th>humidity</th>\n",
       "      <th>pressure</th>\n",
       "      <th>...</th>\n",
       "      <th>last_update_check</th>\n",
       "      <th>created</th>\n",
       "      <th>uptime</th>\n",
       "      <th>is_owner</th>\n",
       "      <th>10min_avg</th>\n",
       "      <th>30min_avg</th>\n",
       "      <th>1hour_avg</th>\n",
       "      <th>6hour_avg</th>\n",
       "      <th>1day_avg</th>\n",
       "      <th>1week_avg</th>\n",
       "    </tr>\n",
       "    <tr>\n",
       "      <th>id</th>\n",
       "      <th></th>\n",
       "      <th></th>\n",
       "      <th></th>\n",
       "      <th></th>\n",
       "      <th></th>\n",
       "      <th></th>\n",
       "      <th></th>\n",
       "      <th></th>\n",
       "      <th></th>\n",
       "      <th></th>\n",
       "      <th></th>\n",
       "      <th></th>\n",
       "      <th></th>\n",
       "      <th></th>\n",
       "      <th></th>\n",
       "      <th></th>\n",
       "      <th></th>\n",
       "      <th></th>\n",
       "      <th></th>\n",
       "      <th></th>\n",
       "      <th></th>\n",
       "    </tr>\n",
       "  </thead>\n",
       "  <tbody>\n",
       "    <tr>\n",
       "      <th>14633</th>\n",
       "      <td>None</td>\n",
       "      <td>37.275561</td>\n",
       "      <td>-121.964134</td>\n",
       "      <td>Hazelwood canary</td>\n",
       "      <td>outside</td>\n",
       "      <td>8.49</td>\n",
       "      <td>100.0</td>\n",
       "      <td>37.777778</td>\n",
       "      <td>16.0</td>\n",
       "      <td>1010.29</td>\n",
       "      <td>...</td>\n",
       "      <td>None</td>\n",
       "      <td>None</td>\n",
       "      <td>None</td>\n",
       "      <td>False</td>\n",
       "      <td>8.77</td>\n",
       "      <td>9.05</td>\n",
       "      <td>9.02</td>\n",
       "      <td>8.77</td>\n",
       "      <td>9.44</td>\n",
       "      <td>24.12</td>\n",
       "    </tr>\n",
       "    <tr>\n",
       "      <th>25999</th>\n",
       "      <td>None</td>\n",
       "      <td>30.053808</td>\n",
       "      <td>-95.494643</td>\n",
       "      <td>Villages of Bridgestone AQI</td>\n",
       "      <td>outside</td>\n",
       "      <td>18.39</td>\n",
       "      <td>94.0</td>\n",
       "      <td>34.444444</td>\n",
       "      <td>38.0</td>\n",
       "      <td>1012.99</td>\n",
       "      <td>...</td>\n",
       "      <td>None</td>\n",
       "      <td>None</td>\n",
       "      <td>None</td>\n",
       "      <td>False</td>\n",
       "      <td>18.82</td>\n",
       "      <td>18.13</td>\n",
       "      <td>17.44</td>\n",
       "      <td>14.00</td>\n",
       "      <td>17.30</td>\n",
       "      <td>17.50</td>\n",
       "    </tr>\n",
       "    <tr>\n",
       "      <th>14091</th>\n",
       "      <td>None</td>\n",
       "      <td>37.883620</td>\n",
       "      <td>-122.070087</td>\n",
       "      <td>WC Hillside</td>\n",
       "      <td>outside</td>\n",
       "      <td>8.31</td>\n",
       "      <td>92.0</td>\n",
       "      <td>33.333333</td>\n",
       "      <td>19.0</td>\n",
       "      <td>1005.17</td>\n",
       "      <td>...</td>\n",
       "      <td>None</td>\n",
       "      <td>None</td>\n",
       "      <td>None</td>\n",
       "      <td>False</td>\n",
       "      <td>7.86</td>\n",
       "      <td>8.83</td>\n",
       "      <td>9.04</td>\n",
       "      <td>8.07</td>\n",
       "      <td>9.30</td>\n",
       "      <td>32.09</td>\n",
       "    </tr>\n",
       "    <tr>\n",
       "      <th>42073</th>\n",
       "      <td>None</td>\n",
       "      <td>47.185173</td>\n",
       "      <td>-122.176855</td>\n",
       "      <td>#1</td>\n",
       "      <td>outside</td>\n",
       "      <td>3.40</td>\n",
       "      <td>63.0</td>\n",
       "      <td>17.222222</td>\n",
       "      <td>54.0</td>\n",
       "      <td>993.04</td>\n",
       "      <td>...</td>\n",
       "      <td>None</td>\n",
       "      <td>None</td>\n",
       "      <td>None</td>\n",
       "      <td>False</td>\n",
       "      <td>2.97</td>\n",
       "      <td>3.00</td>\n",
       "      <td>2.84</td>\n",
       "      <td>2.16</td>\n",
       "      <td>3.89</td>\n",
       "      <td>21.00</td>\n",
       "    </tr>\n",
       "    <tr>\n",
       "      <th>53069</th>\n",
       "      <td>None</td>\n",
       "      <td>47.190197</td>\n",
       "      <td>-122.177992</td>\n",
       "      <td>#2</td>\n",
       "      <td>outside</td>\n",
       "      <td>2.91</td>\n",
       "      <td>72.0</td>\n",
       "      <td>22.222222</td>\n",
       "      <td>47.0</td>\n",
       "      <td>991.89</td>\n",
       "      <td>...</td>\n",
       "      <td>None</td>\n",
       "      <td>None</td>\n",
       "      <td>None</td>\n",
       "      <td>False</td>\n",
       "      <td>2.88</td>\n",
       "      <td>2.87</td>\n",
       "      <td>2.72</td>\n",
       "      <td>2.05</td>\n",
       "      <td>3.85</td>\n",
       "      <td>22.32</td>\n",
       "    </tr>\n",
       "  </tbody>\n",
       "</table>\n",
       "<p>5 rows × 43 columns</p>\n",
       "</div>"
      ],
      "text/plain": [
       "      parent        lat         lon                          name  \\\n",
       "id                                                                  \n",
       "14633   None  37.275561 -121.964134             Hazelwood canary    \n",
       "25999   None  30.053808  -95.494643   Villages of Bridgestone AQI   \n",
       "14091   None  37.883620 -122.070087                   WC Hillside   \n",
       "42073   None  47.185173 -122.176855                            #1   \n",
       "53069   None  47.190197 -122.177992                            #2   \n",
       "\n",
       "      location_type  pm_2.5  temp_f     temp_c  humidity  pressure  ...  \\\n",
       "id                                                                  ...   \n",
       "14633       outside    8.49   100.0  37.777778      16.0   1010.29  ...   \n",
       "25999       outside   18.39    94.0  34.444444      38.0   1012.99  ...   \n",
       "14091       outside    8.31    92.0  33.333333      19.0   1005.17  ...   \n",
       "42073       outside    3.40    63.0  17.222222      54.0    993.04  ...   \n",
       "53069       outside    2.91    72.0  22.222222      47.0    991.89  ...   \n",
       "\n",
       "      last_update_check created uptime is_owner 10min_avg 30min_avg 1hour_avg  \\\n",
       "id                                                                              \n",
       "14633              None    None   None    False      8.77      9.05      9.02   \n",
       "25999              None    None   None    False     18.82     18.13     17.44   \n",
       "14091              None    None   None    False      7.86      8.83      9.04   \n",
       "42073              None    None   None    False      2.97      3.00      2.84   \n",
       "53069              None    None   None    False      2.88      2.87      2.72   \n",
       "\n",
       "      6hour_avg 1day_avg 1week_avg  \n",
       "id                                  \n",
       "14633      8.77     9.44     24.12  \n",
       "25999     14.00    17.30     17.50  \n",
       "14091      8.07     9.30     32.09  \n",
       "42073      2.16     3.89     21.00  \n",
       "53069      2.05     3.85     22.32  \n",
       "\n",
       "[5 rows x 43 columns]"
      ]
     },
     "execution_count": 5,
     "metadata": {},
     "output_type": "execute_result"
    }
   ],
   "source": [
    "def get_sensor_list():\n",
    "    from purpleair.network import SensorList\n",
    "    return SensorList()  \n",
    "    \n",
    "p = get_sensor_list()\n",
    "\n",
    "sensors_df = p.to_dataframe(sensor_filter='column',\n",
    "                    column='6hour_avg',\n",
    "                    channel='parent')\n",
    "sensors_df.head()\n"
   ]
  },
  {
   "cell_type": "code",
   "execution_count": 43,
   "metadata": {
    "ExecuteTime": {
     "end_time": "2020-10-14T16:56:18.792618Z",
     "start_time": "2020-10-14T16:56:17.962263Z"
    },
    "colab": {
     "base_uri": "https://localhost:8080/",
     "height": 832
    },
    "executionInfo": {
     "elapsed": 22239,
     "status": "ok",
     "timestamp": 1602269237584,
     "user": {
      "displayName": "Aaron Deich",
      "photoUrl": "https://lh3.googleusercontent.com/a-/AOh14Gh-8IaCIEoKGJlLv8fkTUnzzQuFlIyZfzfWw0Yumg=s64",
      "userId": "05120099045010655638"
     },
     "user_tz": 420
    },
    "id": "cZ_rceh1DOKp",
    "outputId": "96600456-d9ea-416a-da11-c1c46497ddea"
   },
   "outputs": [
    {
     "name": "stdout",
     "output_type": "stream",
     "text": [
      "3845\n",
      "Index(['parent', 'lat', 'lon', 'name', 'location_type', 'pm_2.5', 'temp_f',\n",
      "       'temp_c', 'humidity', 'pressure', 'p_0_3_um', 'p_0_5_um', 'p_1_0_um',\n",
      "       'p_2_5_um', 'p_5_0_um', 'p_10_0_um', 'pm1_0_cf_1', 'pm2_5_cf_1',\n",
      "       'pm10_0_cf_1', 'pm1_0_atm', 'pm2_5_atm', 'pm10_0_atm', 'last_seen',\n",
      "       'model', 'adc', 'rssi', 'hidden', 'flagged', 'downgraded', 'age',\n",
      "       'brightness', 'hardware', 'version', 'last_update_check', 'created',\n",
      "       'uptime', 'is_owner', '10min_avg', '30min_avg', '1hour_avg',\n",
      "       '6hour_avg', '1day_avg', '1week_avg'],\n",
      "      dtype='object')\n"
     ]
    },
    {
     "data": {
      "text/plain": [
       "id\n",
       "14633                            Hazelwood canary \n",
       "14091                                  WC Hillside\n",
       "64797        1 5th Avenue Marina Bldg 28 @ El 9 Ft\n",
       "69629                                1 Iverson Way\n",
       "67357               10 Alhambra Ct. Portola Valley\n",
       "                           ...                    \n",
       "70701                            Zhanger Household\n",
       "75223                                   Zinn Drive\n",
       "64013                                      Zinnias\n",
       "19363                                     Zoe Zone\n",
       "67815    [Outdoor] Great Hwy bw Moraga and Noriega\n",
       "Name: name, Length: 3845, dtype: object"
      ]
     },
     "metadata": {},
     "output_type": "display_data"
    },
    {
     "data": {
      "image/png": "[encoded data removed]",
      "text/plain": [
       "<Figure size 576x576 with 1 Axes>"
      ]
     },
     "metadata": {
      "needs_background": "light"
     },
     "output_type": "display_data"
    }
   ],
   "source": [
    "\n",
    "def get_geobox(df, center_lat=37.5, center_lon=-122, width_degrees=1.5):\n",
    "  return df.loc[  \\\n",
    "                (df['lat'] > center_lat - width_degrees) & \\\n",
    "                (df['lat'] < center_lat + width_degrees) & \\\n",
    "                (df['lon'] < center_lon + width_degrees) & \\\n",
    "                (df['lon'] > center_lon - width_degrees) & \\\n",
    "                (df['location_type'] == 'outside')]\n",
    "\n",
    "\n",
    "\n",
    "def make_CA_plot(df, title='Title goes here', size=(8, 8)):\n",
    "    usa = gpd.read_file('states.shp')\n",
    "    fig, ax = plt.subplots(figsize=size)\n",
    "    usa[usa.STATE_ABBR == 'CA'].plot(ax=ax, alpha=0.2)\n",
    "    \n",
    "    point_data = gpd.GeoDataFrame(\n",
    "        df, geometry=gpd.points_from_xy(df.lon, df.lat))\n",
    "    #display(point_data.head())\n",
    "    \n",
    "    point_data.plot(ax=ax, legend=True)\n",
    "    \n",
    "    ax.set_title(title)\n",
    "\n",
    "bay_area_sensors = get_geobox(df=sensors_df)\n",
    "\n",
    "print(len(bay_area_sensors))\n",
    "print(bay_area_sensors.columns)\n",
    "display(bay_area_sensors.name)\n",
    "make_CA_plot(df=bay_area_sensors)"
   ]
  },
  {
   "cell_type": "code",
   "execution_count": 7,
   "metadata": {
    "ExecuteTime": {
     "end_time": "2020-10-13T22:01:10.937117Z",
     "start_time": "2020-10-13T22:01:10.923182Z"
    },
    "colab": {
     "base_uri": "https://localhost:8080/",
     "height": 170
    },
    "executionInfo": {
     "elapsed": 23723,
     "status": "ok",
     "timestamp": 1602269239104,
     "user": {
      "displayName": "Aaron Deich",
      "photoUrl": "https://lh3.googleusercontent.com/a-/AOh14Gh-8IaCIEoKGJlLv8fkTUnzzQuFlIyZfzfWw0Yumg=s64",
      "userId": "05120099045010655638"
     },
     "user_tz": 420
    },
    "id": "ikkqA5u9dBuZ",
    "outputId": "2292d279-6e29-4ac4-cc73-95b944e31a93"
   },
   "outputs": [],
   "source": [
    "from purpleair.sensor import Sensor\n",
    "\n",
    "#se = Sensor(2890)\n",
    "#df = se.parent.get_historical(weeks_to_get=1,\n",
    "#                             thingspeak_field='secondary')\n",
    "#print(df.head())"
   ]
  },
  {
   "cell_type": "code",
   "execution_count": null,
   "metadata": {
    "ExecuteTime": {
     "start_time": "2020-10-14T17:17:28.682Z"
    },
    "scrolled": true
   },
   "outputs": [
    {
     "name": "stdout",
     "output_type": "stream",
     "text": [
      "0\n",
      "Length of full set: 3845\n",
      "Length of downloaded set: 117\n",
      "Length of remaining: 3728\n",
      "Sample from full: 65547\n",
      "Sample from downloaded: 19463\n",
      "File 0/3728, duration=5.231825828552246 seconds, Sensor57439_daily.csv\n",
      "File 1/3728, duration=0.8957810401916504 seconds, Sensor73829_daily.csv\n",
      "File 2/3728, duration=20.801491022109985 seconds, Sensor16489_daily.csv\n",
      "File 3/3728, duration=2.887223958969116 seconds, Sensor65641_daily.csv\n",
      "File 4/3728, duration=3.259840965270996 seconds, Sensor65643_daily.csv\n",
      "File 5/3728, duration=2.540992021560669 seconds, Sensor65655_daily.csv\n",
      "File 6/3728, duration=18.04567313194275 seconds, Sensor49273_daily.csv\n",
      "File 7/3728, duration=3.882934093475342 seconds, Sensor65657_daily.csv\n"
     ]
    }
   ],
   "source": [
    "def get_existing_sensor_files():\n",
    "    filenames = os.listdir('data_daily')\n",
    "    \n",
    "    sensor_list = []\n",
    "    \n",
    "    for filename in filenames:\n",
    "        first_stuff = filename.split('_')[0]\n",
    "        sensor_number = first_stuff[6:]\n",
    "        sensor_list.append(int(sensor_number))\n",
    "        \n",
    "    print(len(sensor_list) - len(set(sensor_list)))\n",
    "    \n",
    "    return set(sensor_list)\n",
    "    \n",
    "\n",
    "def get_non_downloaded_sensor_list(full_list, print_report=False):\n",
    "    full_sensor_set = set(bay_area_sensors.index)\n",
    "    downloaded_sensor_set = get_existing_sensor_files()\n",
    "    \n",
    "    if print_report:\n",
    "        print(\"Length of full set: {}\".format(len(full_sensor_set)))\n",
    "        print(\"Length of downloaded set: {}\".format(len(downloaded_sensor_set)))\n",
    "        print(\"Length of remaining: {}\".format(len(full_sensor_set - downloaded_sensor_set)))\n",
    "        print(\"Sample from full: {}\".format(list(full_sensor_set)[0]))\n",
    "        print(\"Sample from downloaded: {}\".format(list(downloaded_sensor_set)[0]))\n",
    "    \n",
    "    return list(full_sensor_set - downloaded_sensor_set)\n",
    "\n",
    "\n",
    "\n",
    "def bulk_load_daily(sensor_list):\n",
    "    data_dir = 'daily_data_dump'\n",
    "    \n",
    "    if not os.path.exists(data_dir):\n",
    "        print(\"data_dir doesn't exist\")\n",
    "        os.mkdir(data_dir, mode=0o666)\n",
    "        print(\"made data_dir\")\n",
    "    \n",
    "    curr_directory = os.path.dirname(os.getcwd())\n",
    "    \n",
    "    download_list = get_non_downloaded_sensor_list(\n",
    "        full_list=sensor_list, print_report=True)\n",
    "    \n",
    "    for i, sensor_num in enumerate(download_list):\n",
    "        start_time = time.time()\n",
    "        se = Sensor(sensor_num)\n",
    "\n",
    "        df = se.parent.get_daily(start_year=2018,\n",
    "                                   start_month=5,\n",
    "                                   end_year=2020,\n",
    "                                   end_month=10,\n",
    "                                    thingspeak_field='secondary')\n",
    "        \n",
    "        file_name = \"Sensor{}_daily.csv\".format(sensor_num)\n",
    "        \n",
    "        outfile = os.path.join(\n",
    "            os.getcwd(),\n",
    "            'data_daily',\n",
    "            file_name)\n",
    "        \n",
    "        df.to_csv(outfile)\n",
    "        \n",
    "        print(\"File {}/{}, duration={} seconds, {}\".format(i, \n",
    "                        len(download_list), \n",
    "                        time.time() - start_time,\n",
    "                        file_name\n",
    "                ))\n",
    "        time.sleep(5)\n",
    "        \n",
    "bulk_load_daily(bay_area_sensors)\n"
   ]
  },
  {
   "cell_type": "code",
   "execution_count": 67,
   "metadata": {
    "ExecuteTime": {
     "end_time": "2020-10-14T17:14:16.409387Z",
     "start_time": "2020-10-14T17:14:16.397308Z"
    }
   },
   "outputs": [
    {
     "data": {
      "text/plain": [
       "'/Users/aaron/Desktop/aqi/api_queries/aarons_purpleair_loader'"
      ]
     },
     "execution_count": 67,
     "metadata": {},
     "output_type": "execute_result"
    }
   ],
   "source": [
    "os.getcwd()\n"
   ]
  },
  {
   "cell_type": "code",
   "execution_count": 62,
   "metadata": {
    "ExecuteTime": {
     "end_time": "2020-10-14T17:06:37.283476Z",
     "start_time": "2020-10-14T17:06:37.271800Z"
    }
   },
   "outputs": [
    {
     "data": {
      "text/plain": [
       "1"
      ]
     },
     "execution_count": 62,
     "metadata": {},
     "output_type": "execute_result"
    }
   ],
   "source": [
    "a = set([1,2,3, 5])\n",
    "b = set([2,3,4])\n",
    "\n",
    "list(a)[0]"
   ]
  },
  {
   "cell_type": "code",
   "execution_count": 44,
   "metadata": {
    "ExecuteTime": {
     "end_time": "2020-10-14T16:56:38.023670Z",
     "start_time": "2020-10-14T16:56:37.995496Z"
    },
    "colab": {
     "base_uri": "https://localhost:8080/",
     "height": 450
    },
    "executionInfo": {
     "elapsed": 23688,
     "status": "ok",
     "timestamp": 1602269239105,
     "user": {
      "displayName": "Aaron Deich",
      "photoUrl": "https://lh3.googleusercontent.com/a-/AOh14Gh-8IaCIEoKGJlLv8fkTUnzzQuFlIyZfzfWw0Yumg=s64",
      "userId": "05120099045010655638"
     },
     "user_tz": 420
    },
    "id": "yAIF12Zgg772",
    "outputId": "10ae33a8-e433-432a-e7c8-5dccd5983eae"
   },
   "outputs": [
    {
     "ename": "NameError",
     "evalue": "name 'df' is not defined",
     "output_type": "error",
     "traceback": [
      "\u001b[0;31m---------------------------------------------------------------------------\u001b[0m",
      "\u001b[0;31mNameError\u001b[0m                                 Traceback (most recent call last)",
      "\u001b[0;32m<ipython-input-44-fd28f7952cf7>\u001b[0m in \u001b[0;36m<module>\u001b[0;34m\u001b[0m\n\u001b[1;32m      1\u001b[0m \u001b[0;32mimport\u001b[0m \u001b[0mseaborn\u001b[0m \u001b[0;32mas\u001b[0m \u001b[0msns\u001b[0m\u001b[0;34m\u001b[0m\u001b[0m\n\u001b[1;32m      2\u001b[0m \u001b[0;34m\u001b[0m\u001b[0m\n\u001b[0;32m----> 3\u001b[0;31m \u001b[0mprint\u001b[0m\u001b[0;34m(\u001b[0m\u001b[0mdf\u001b[0m\u001b[0;34m.\u001b[0m\u001b[0mcolumns\u001b[0m\u001b[0;34m)\u001b[0m\u001b[0;34m\u001b[0m\u001b[0m\n\u001b[0m\u001b[1;32m      4\u001b[0m \u001b[0;34m\u001b[0m\u001b[0m\n\u001b[1;32m      5\u001b[0m \u001b[0msns\u001b[0m\u001b[0;34m.\u001b[0m\u001b[0mlineplot\u001b[0m\u001b[0;34m(\u001b[0m\u001b[0mdata\u001b[0m\u001b[0;34m=\u001b[0m\u001b[0mdf\u001b[0m\u001b[0;34m,\u001b[0m \u001b[0mx\u001b[0m\u001b[0;34m=\u001b[0m\u001b[0;34m'created_at'\u001b[0m\u001b[0;34m,\u001b[0m \u001b[0my\u001b[0m\u001b[0;34m=\u001b[0m\u001b[0;34m'2.5um/dl'\u001b[0m\u001b[0;34m)\u001b[0m\u001b[0;34m\u001b[0m\u001b[0m\n",
      "\u001b[0;31mNameError\u001b[0m: name 'df' is not defined"
     ]
    }
   ],
   "source": [
    "import seaborn as sns\n",
    "\n",
    "print(df.columns)\n",
    "\n",
    "sns.lineplot(data=df, x='created_at', y='2.5um/dl')\n",
    "sns.lineplot(data=df, x='created_at', y='1.0um/dl')"
   ]
  }
 ],
 "metadata": {
  "colab": {
   "authorship_tag": "ABX9TyM8PXcg5wSFmNusFO9udL0i",
   "name": "purple_air_data_acquisition.ipynb",
   "provenance": []
  },
  "kernelspec": {
   "display_name": "Python 3",
   "language": "python",
   "name": "python3"
  },
  "language_info": {
   "codemirror_mode": {
    "name": "ipython",
    "version": 3
   },
   "file_extension": ".py",
   "mimetype": "text/x-python",
   "name": "python",
   "nbconvert_exporter": "python",
   "pygments_lexer": "ipython3",
   "version": "3.7.0"
  },
  "toc": {
   "base_numbering": 1,
   "nav_menu": {},
   "number_sections": true,
   "sideBar": true,
   "skip_h1_title": false,
   "title_cell": "Table of Contents",
   "title_sidebar": "Contents",
   "toc_cell": false,
   "toc_position": {},
   "toc_section_display": true,
   "toc_window_display": false
  }
 },
 "nbformat": 4,
 "nbformat_minor": 1
}
