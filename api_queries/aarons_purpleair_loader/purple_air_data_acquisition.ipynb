{
 "cells": [
  {
   "cell_type": "code",
   "execution_count": 1,
   "metadata": {
    "ExecuteTime": {
     "end_time": "2020-10-13T22:00:42.564362Z",
     "start_time": "2020-10-13T22:00:42.553618Z"
    },
    "colab": {
     "base_uri": "https://localhost:8080/",
     "height": 819
    },
    "executionInfo": {
     "elapsed": 12644,
     "status": "ok",
     "timestamp": 1602269227916,
     "user": {
      "displayName": "Aaron Deich",
      "photoUrl": "https://lh3.googleusercontent.com/a-/AOh14Gh-8IaCIEoKGJlLv8fkTUnzzQuFlIyZfzfWw0Yumg=s64",
      "userId": "05120099045010655638"
     },
     "user_tz": 420
    },
    "id": "nLQR3j6JA1cV",
    "outputId": "02fb52c0-8762-4cff-8a7d-3064e1027dfb"
   },
   "outputs": [],
   "source": [
    "#!pip install -r purpleair/requirements.txt\n",
    "#import purpleair\n",
    "\n"
   ]
  },
  {
   "cell_type": "code",
   "execution_count": 2,
   "metadata": {
    "ExecuteTime": {
     "end_time": "2020-10-13T22:00:46.242866Z",
     "start_time": "2020-10-13T22:00:42.572704Z"
    }
   },
   "outputs": [],
   "source": [
    "import numpy as np\n",
    "import pandas as pd\n",
    "import missingno as msno\n",
    "import time\n",
    "import os\n",
    "\n",
    "\n",
    "\n",
    "import geopandas as gpd\n",
    "from shapely.geometry import Point, Polygon\n",
    "import matplotlib.pyplot as plt\n",
    "%matplotlib inline"
   ]
  },
  {
   "cell_type": "code",
   "execution_count": 3,
   "metadata": {
    "ExecuteTime": {
     "end_time": "2020-10-13T22:00:46.279982Z",
     "start_time": "2020-10-13T22:00:46.262837Z"
    },
    "colab": {
     "base_uri": "https://localhost:8080/",
     "height": 153
    },
    "executionInfo": {
     "elapsed": 13890,
     "status": "ok",
     "timestamp": 1602269229179,
     "user": {
      "displayName": "Aaron Deich",
      "photoUrl": "https://lh3.googleusercontent.com/a-/AOh14Gh-8IaCIEoKGJlLv8fkTUnzzQuFlIyZfzfWw0Yumg=s64",
      "userId": "05120099045010655638"
     },
     "user_tz": 420
    },
    "id": "YP2Pn3CFlyOY",
    "outputId": "5fb34267-73ef-40ea-afaf-d630d0803344"
   },
   "outputs": [],
   "source": [
    "# load the states shape data\n",
    "\n",
    "def load_states_data():\n",
    "    !rm states*\n",
    "    !curl -LJO https://github.com/josh-tollefson/aqi/raw/master/notebooks/states_21basic.zip\n",
    "    !ls \n",
    "    !unzip states_21basic.zip \n",
    "    !ls\n",
    "    \n",
    "#load_states_data()"
   ]
  },
  {
   "cell_type": "code",
   "execution_count": 4,
   "metadata": {
    "ExecuteTime": {
     "end_time": "2020-10-13T22:00:46.385586Z",
     "start_time": "2020-10-13T22:00:46.290192Z"
    },
    "colab": {
     "base_uri": "https://localhost:8080/",
     "height": 174
    },
    "executionInfo": {
     "elapsed": 14394,
     "status": "ok",
     "timestamp": 1602269229697,
     "user": {
      "displayName": "Aaron Deich",
      "photoUrl": "https://lh3.googleusercontent.com/a-/AOh14Gh-8IaCIEoKGJlLv8fkTUnzzQuFlIyZfzfWw0Yumg=s64",
      "userId": "05120099045010655638"
     },
     "user_tz": 420
    },
    "id": "2eoutqCtr7YL",
    "outputId": "160ad348-70f4-429e-c917-e4ee8b9a3cf7"
   },
   "outputs": [
    {
     "data": {
      "text/html": [
       "<div>\n",
       "<style scoped>\n",
       "    .dataframe tbody tr th:only-of-type {\n",
       "        vertical-align: middle;\n",
       "    }\n",
       "\n",
       "    .dataframe tbody tr th {\n",
       "        vertical-align: top;\n",
       "    }\n",
       "\n",
       "    .dataframe thead th {\n",
       "        text-align: right;\n",
       "    }\n",
       "</style>\n",
       "<table border=\"1\" class=\"dataframe\">\n",
       "  <thead>\n",
       "    <tr style=\"text-align: right;\">\n",
       "      <th></th>\n",
       "      <th>STATE_NAME</th>\n",
       "      <th>DRAWSEQ</th>\n",
       "      <th>STATE_FIPS</th>\n",
       "      <th>SUB_REGION</th>\n",
       "      <th>STATE_ABBR</th>\n",
       "      <th>geometry</th>\n",
       "    </tr>\n",
       "  </thead>\n",
       "  <tbody>\n",
       "    <tr>\n",
       "      <th>0</th>\n",
       "      <td>Hawaii</td>\n",
       "      <td>1</td>\n",
       "      <td>15</td>\n",
       "      <td>Pacific</td>\n",
       "      <td>HI</td>\n",
       "      <td>MULTIPOLYGON (((-160.07380 22.00418, -160.0497...</td>\n",
       "    </tr>\n",
       "    <tr>\n",
       "      <th>1</th>\n",
       "      <td>Washington</td>\n",
       "      <td>2</td>\n",
       "      <td>53</td>\n",
       "      <td>Pacific</td>\n",
       "      <td>WA</td>\n",
       "      <td>MULTIPOLYGON (((-122.40202 48.22522, -122.4628...</td>\n",
       "    </tr>\n",
       "  </tbody>\n",
       "</table>\n",
       "</div>"
      ],
      "text/plain": [
       "   STATE_NAME  DRAWSEQ STATE_FIPS SUB_REGION STATE_ABBR  \\\n",
       "0      Hawaii        1         15    Pacific         HI   \n",
       "1  Washington        2         53    Pacific         WA   \n",
       "\n",
       "                                            geometry  \n",
       "0  MULTIPOLYGON (((-160.07380 22.00418, -160.0497...  \n",
       "1  MULTIPOLYGON (((-122.40202 48.22522, -122.4628...  "
      ]
     },
     "metadata": {},
     "output_type": "display_data"
    },
    {
     "data": {
      "text/html": [
       "<div>\n",
       "<style scoped>\n",
       "    .dataframe tbody tr th:only-of-type {\n",
       "        vertical-align: middle;\n",
       "    }\n",
       "\n",
       "    .dataframe tbody tr th {\n",
       "        vertical-align: top;\n",
       "    }\n",
       "\n",
       "    .dataframe thead th {\n",
       "        text-align: right;\n",
       "    }\n",
       "</style>\n",
       "<table border=\"1\" class=\"dataframe\">\n",
       "  <thead>\n",
       "    <tr style=\"text-align: right;\">\n",
       "      <th></th>\n",
       "      <th>STATE_NAME</th>\n",
       "      <th>DRAWSEQ</th>\n",
       "      <th>STATE_FIPS</th>\n",
       "      <th>SUB_REGION</th>\n",
       "      <th>STATE_ABBR</th>\n",
       "      <th>geometry</th>\n",
       "    </tr>\n",
       "  </thead>\n",
       "  <tbody>\n",
       "    <tr>\n",
       "      <th>50</th>\n",
       "      <td>Alaska</td>\n",
       "      <td>51</td>\n",
       "      <td>02</td>\n",
       "      <td>Pacific</td>\n",
       "      <td>AK</td>\n",
       "      <td>MULTIPOLYGON (((-161.33379 58.73325, -161.3824...</td>\n",
       "    </tr>\n",
       "  </tbody>\n",
       "</table>\n",
       "</div>"
      ],
      "text/plain": [
       "   STATE_NAME  DRAWSEQ STATE_FIPS SUB_REGION STATE_ABBR  \\\n",
       "50     Alaska       51         02    Pacific         AK   \n",
       "\n",
       "                                             geometry  \n",
       "50  MULTIPOLYGON (((-161.33379 58.73325, -161.3824...  "
      ]
     },
     "metadata": {},
     "output_type": "display_data"
    }
   ],
   "source": [
    "\n",
    "usa = gpd.read_file('states.shp')\n",
    "display(usa.head(2))\n",
    "display(usa.tail(1))"
   ]
  },
  {
   "cell_type": "code",
   "execution_count": 5,
   "metadata": {
    "ExecuteTime": {
     "end_time": "2020-10-13T22:01:10.288403Z",
     "start_time": "2020-10-13T22:00:46.391995Z"
    },
    "colab": {
     "base_uri": "https://localhost:8080/",
     "height": 357
    },
    "executionInfo": {
     "elapsed": 21467,
     "status": "ok",
     "timestamp": 1602269236798,
     "user": {
      "displayName": "Aaron Deich",
      "photoUrl": "https://lh3.googleusercontent.com/a-/AOh14Gh-8IaCIEoKGJlLv8fkTUnzzQuFlIyZfzfWw0Yumg=s64",
      "userId": "05120099045010655638"
     },
     "user_tz": 420
    },
    "id": "Iked2ODzB9RN",
    "outputId": "fdf4f565-cf67-45b9-9124-495ab98992f6"
   },
   "outputs": [
    {
     "name": "stdout",
     "output_type": "stream",
     "text": [
      "Initialized 13,774 sensors!\n"
     ]
    },
    {
     "data": {
      "text/html": [
       "<div>\n",
       "<style scoped>\n",
       "    .dataframe tbody tr th:only-of-type {\n",
       "        vertical-align: middle;\n",
       "    }\n",
       "\n",
       "    .dataframe tbody tr th {\n",
       "        vertical-align: top;\n",
       "    }\n",
       "\n",
       "    .dataframe thead th {\n",
       "        text-align: right;\n",
       "    }\n",
       "</style>\n",
       "<table border=\"1\" class=\"dataframe\">\n",
       "  <thead>\n",
       "    <tr style=\"text-align: right;\">\n",
       "      <th></th>\n",
       "      <th>parent</th>\n",
       "      <th>lat</th>\n",
       "      <th>lon</th>\n",
       "      <th>name</th>\n",
       "      <th>location_type</th>\n",
       "      <th>pm_2.5</th>\n",
       "      <th>temp_f</th>\n",
       "      <th>temp_c</th>\n",
       "      <th>humidity</th>\n",
       "      <th>pressure</th>\n",
       "      <th>...</th>\n",
       "      <th>last_update_check</th>\n",
       "      <th>created</th>\n",
       "      <th>uptime</th>\n",
       "      <th>is_owner</th>\n",
       "      <th>10min_avg</th>\n",
       "      <th>30min_avg</th>\n",
       "      <th>1hour_avg</th>\n",
       "      <th>6hour_avg</th>\n",
       "      <th>1day_avg</th>\n",
       "      <th>1week_avg</th>\n",
       "    </tr>\n",
       "    <tr>\n",
       "      <th>id</th>\n",
       "      <th></th>\n",
       "      <th></th>\n",
       "      <th></th>\n",
       "      <th></th>\n",
       "      <th></th>\n",
       "      <th></th>\n",
       "      <th></th>\n",
       "      <th></th>\n",
       "      <th></th>\n",
       "      <th></th>\n",
       "      <th></th>\n",
       "      <th></th>\n",
       "      <th></th>\n",
       "      <th></th>\n",
       "      <th></th>\n",
       "      <th></th>\n",
       "      <th></th>\n",
       "      <th></th>\n",
       "      <th></th>\n",
       "      <th></th>\n",
       "      <th></th>\n",
       "    </tr>\n",
       "  </thead>\n",
       "  <tbody>\n",
       "    <tr>\n",
       "      <th>14633</th>\n",
       "      <td>None</td>\n",
       "      <td>37.275561</td>\n",
       "      <td>-121.964134</td>\n",
       "      <td>Hazelwood canary</td>\n",
       "      <td>outside</td>\n",
       "      <td>8.49</td>\n",
       "      <td>100.0</td>\n",
       "      <td>37.777778</td>\n",
       "      <td>16.0</td>\n",
       "      <td>1010.29</td>\n",
       "      <td>...</td>\n",
       "      <td>None</td>\n",
       "      <td>None</td>\n",
       "      <td>None</td>\n",
       "      <td>False</td>\n",
       "      <td>8.77</td>\n",
       "      <td>9.05</td>\n",
       "      <td>9.02</td>\n",
       "      <td>8.77</td>\n",
       "      <td>9.44</td>\n",
       "      <td>24.12</td>\n",
       "    </tr>\n",
       "    <tr>\n",
       "      <th>25999</th>\n",
       "      <td>None</td>\n",
       "      <td>30.053808</td>\n",
       "      <td>-95.494643</td>\n",
       "      <td>Villages of Bridgestone AQI</td>\n",
       "      <td>outside</td>\n",
       "      <td>18.39</td>\n",
       "      <td>94.0</td>\n",
       "      <td>34.444444</td>\n",
       "      <td>38.0</td>\n",
       "      <td>1012.99</td>\n",
       "      <td>...</td>\n",
       "      <td>None</td>\n",
       "      <td>None</td>\n",
       "      <td>None</td>\n",
       "      <td>False</td>\n",
       "      <td>18.82</td>\n",
       "      <td>18.13</td>\n",
       "      <td>17.44</td>\n",
       "      <td>14.00</td>\n",
       "      <td>17.30</td>\n",
       "      <td>17.50</td>\n",
       "    </tr>\n",
       "    <tr>\n",
       "      <th>14091</th>\n",
       "      <td>None</td>\n",
       "      <td>37.883620</td>\n",
       "      <td>-122.070087</td>\n",
       "      <td>WC Hillside</td>\n",
       "      <td>outside</td>\n",
       "      <td>8.31</td>\n",
       "      <td>92.0</td>\n",
       "      <td>33.333333</td>\n",
       "      <td>19.0</td>\n",
       "      <td>1005.17</td>\n",
       "      <td>...</td>\n",
       "      <td>None</td>\n",
       "      <td>None</td>\n",
       "      <td>None</td>\n",
       "      <td>False</td>\n",
       "      <td>7.86</td>\n",
       "      <td>8.83</td>\n",
       "      <td>9.04</td>\n",
       "      <td>8.07</td>\n",
       "      <td>9.30</td>\n",
       "      <td>32.09</td>\n",
       "    </tr>\n",
       "    <tr>\n",
       "      <th>42073</th>\n",
       "      <td>None</td>\n",
       "      <td>47.185173</td>\n",
       "      <td>-122.176855</td>\n",
       "      <td>#1</td>\n",
       "      <td>outside</td>\n",
       "      <td>3.40</td>\n",
       "      <td>63.0</td>\n",
       "      <td>17.222222</td>\n",
       "      <td>54.0</td>\n",
       "      <td>993.04</td>\n",
       "      <td>...</td>\n",
       "      <td>None</td>\n",
       "      <td>None</td>\n",
       "      <td>None</td>\n",
       "      <td>False</td>\n",
       "      <td>2.97</td>\n",
       "      <td>3.00</td>\n",
       "      <td>2.84</td>\n",
       "      <td>2.16</td>\n",
       "      <td>3.89</td>\n",
       "      <td>21.00</td>\n",
       "    </tr>\n",
       "    <tr>\n",
       "      <th>53069</th>\n",
       "      <td>None</td>\n",
       "      <td>47.190197</td>\n",
       "      <td>-122.177992</td>\n",
       "      <td>#2</td>\n",
       "      <td>outside</td>\n",
       "      <td>2.91</td>\n",
       "      <td>72.0</td>\n",
       "      <td>22.222222</td>\n",
       "      <td>47.0</td>\n",
       "      <td>991.89</td>\n",
       "      <td>...</td>\n",
       "      <td>None</td>\n",
       "      <td>None</td>\n",
       "      <td>None</td>\n",
       "      <td>False</td>\n",
       "      <td>2.88</td>\n",
       "      <td>2.87</td>\n",
       "      <td>2.72</td>\n",
       "      <td>2.05</td>\n",
       "      <td>3.85</td>\n",
       "      <td>22.32</td>\n",
       "    </tr>\n",
       "  </tbody>\n",
       "</table>\n",
       "<p>5 rows × 43 columns</p>\n",
       "</div>"
      ],
      "text/plain": [
       "      parent        lat         lon                          name  \\\n",
       "id                                                                  \n",
       "14633   None  37.275561 -121.964134             Hazelwood canary    \n",
       "25999   None  30.053808  -95.494643   Villages of Bridgestone AQI   \n",
       "14091   None  37.883620 -122.070087                   WC Hillside   \n",
       "42073   None  47.185173 -122.176855                            #1   \n",
       "53069   None  47.190197 -122.177992                            #2   \n",
       "\n",
       "      location_type  pm_2.5  temp_f     temp_c  humidity  pressure  ...  \\\n",
       "id                                                                  ...   \n",
       "14633       outside    8.49   100.0  37.777778      16.0   1010.29  ...   \n",
       "25999       outside   18.39    94.0  34.444444      38.0   1012.99  ...   \n",
       "14091       outside    8.31    92.0  33.333333      19.0   1005.17  ...   \n",
       "42073       outside    3.40    63.0  17.222222      54.0    993.04  ...   \n",
       "53069       outside    2.91    72.0  22.222222      47.0    991.89  ...   \n",
       "\n",
       "      last_update_check created uptime is_owner 10min_avg 30min_avg 1hour_avg  \\\n",
       "id                                                                              \n",
       "14633              None    None   None    False      8.77      9.05      9.02   \n",
       "25999              None    None   None    False     18.82     18.13     17.44   \n",
       "14091              None    None   None    False      7.86      8.83      9.04   \n",
       "42073              None    None   None    False      2.97      3.00      2.84   \n",
       "53069              None    None   None    False      2.88      2.87      2.72   \n",
       "\n",
       "      6hour_avg 1day_avg 1week_avg  \n",
       "id                                  \n",
       "14633      8.77     9.44     24.12  \n",
       "25999     14.00    17.30     17.50  \n",
       "14091      8.07     9.30     32.09  \n",
       "42073      2.16     3.89     21.00  \n",
       "53069      2.05     3.85     22.32  \n",
       "\n",
       "[5 rows x 43 columns]"
      ]
     },
     "execution_count": 5,
     "metadata": {},
     "output_type": "execute_result"
    }
   ],
   "source": [
    "def get_sensor_list():\n",
    "    from purpleair.network import SensorList\n",
    "    return SensorList()  \n",
    "    \n",
    "p = get_sensor_list()\n",
    "\n",
    "sensors_df = p.to_dataframe(sensor_filter='column',\n",
    "                    column='6hour_avg',\n",
    "                    channel='parent')\n",
    "sensors_df.head()\n"
   ]
  },
  {
   "cell_type": "code",
   "execution_count": 6,
   "metadata": {
    "ExecuteTime": {
     "end_time": "2020-10-13T22:01:10.912736Z",
     "start_time": "2020-10-13T22:01:10.297146Z"
    },
    "colab": {
     "base_uri": "https://localhost:8080/",
     "height": 832
    },
    "executionInfo": {
     "elapsed": 22239,
     "status": "ok",
     "timestamp": 1602269237584,
     "user": {
      "displayName": "Aaron Deich",
      "photoUrl": "https://lh3.googleusercontent.com/a-/AOh14Gh-8IaCIEoKGJlLv8fkTUnzzQuFlIyZfzfWw0Yumg=s64",
      "userId": "05120099045010655638"
     },
     "user_tz": 420
    },
    "id": "cZ_rceh1DOKp",
    "outputId": "96600456-d9ea-416a-da11-c1c46497ddea"
   },
   "outputs": [
    {
     "name": "stdout",
     "output_type": "stream",
     "text": [
      "1000\n",
      "Index(['parent', 'lat', 'lon', 'name', 'location_type', 'pm_2.5', 'temp_f',\n",
      "       'temp_c', 'humidity', 'pressure', 'p_0_3_um', 'p_0_5_um', 'p_1_0_um',\n",
      "       'p_2_5_um', 'p_5_0_um', 'p_10_0_um', 'pm1_0_cf_1', 'pm2_5_cf_1',\n",
      "       'pm10_0_cf_1', 'pm1_0_atm', 'pm2_5_atm', 'pm10_0_atm', 'last_seen',\n",
      "       'model', 'adc', 'rssi', 'hidden', 'flagged', 'downgraded', 'age',\n",
      "       'brightness', 'hardware', 'version', 'last_update_check', 'created',\n",
      "       'uptime', 'is_owner', '10min_avg', '30min_avg', '1hour_avg',\n",
      "       '6hour_avg', '1day_avg', '1week_avg'],\n",
      "      dtype='object')\n"
     ]
    },
    {
     "data": {
      "text/plain": [
       "id\n",
       "70353               SRJC Shone Farm\n",
       "61655                   Las Colinas\n",
       "65713                  15th and Noe\n",
       "64389     Cleveland Heights Outdoor\n",
       "18455                   Rosswood Dr\n",
       "                    ...            \n",
       "25745                   bushrod-ext\n",
       "61241    Noe, between Jersey & 25th\n",
       "53503                       Elk Run\n",
       "60265             Lakeville landing\n",
       "54779              Flames of Mordor\n",
       "Name: name, Length: 1000, dtype: object"
      ]
     },
     "metadata": {},
     "output_type": "display_data"
    },
    {
     "data": {
      "image/png": "[encoded data removed]",
      "text/plain": [
       "<Figure size 576x576 with 1 Axes>"
      ]
     },
     "metadata": {
      "needs_background": "light"
     },
     "output_type": "display_data"
    }
   ],
   "source": [
    "\n",
    "def get_geobox(df, center_lat=37.5, center_lon=-122, width_degrees=1.5):\n",
    "  return df.loc[  \\\n",
    "                (df['lat'] > center_lat - width_degrees) & \\\n",
    "                (df['lat'] < center_lat + width_degrees) & \\\n",
    "                (df['lon'] < center_lon + width_degrees) & \\\n",
    "                (df['lon'] > center_lon - width_degrees) & \\\n",
    "                (df['location_type'] == 'outside')]\n",
    "\n",
    "\n",
    "\n",
    "def make_CA_plot(df, title='Title goes here', size=(8, 8)):\n",
    "    usa = gpd.read_file('states.shp')\n",
    "    fig, ax = plt.subplots(figsize=size)\n",
    "    usa[usa.STATE_ABBR == 'CA'].plot(ax=ax, alpha=0.2)\n",
    "    \n",
    "    point_data = gpd.GeoDataFrame(\n",
    "        df, geometry=gpd.points_from_xy(df.lon, df.lat))\n",
    "    #display(point_data.head())\n",
    "    \n",
    "    point_data.plot(ax=ax, legend=True)\n",
    "    \n",
    "    ax.set_title(title)\n",
    "\n",
    "bay_area_sensors = get_geobox(df=sensors_df).sample(1000)\n",
    "\n",
    "print(len(bay_area_sensors))\n",
    "print(bay_area_sensors.columns)\n",
    "display(bay_area_sensors.name)\n",
    "make_CA_plot(df=bay_area_sensors)"
   ]
  },
  {
   "cell_type": "code",
   "execution_count": 7,
   "metadata": {
    "ExecuteTime": {
     "end_time": "2020-10-13T22:01:10.937117Z",
     "start_time": "2020-10-13T22:01:10.923182Z"
    },
    "colab": {
     "base_uri": "https://localhost:8080/",
     "height": 170
    },
    "executionInfo": {
     "elapsed": 23723,
     "status": "ok",
     "timestamp": 1602269239104,
     "user": {
      "displayName": "Aaron Deich",
      "photoUrl": "https://lh3.googleusercontent.com/a-/AOh14Gh-8IaCIEoKGJlLv8fkTUnzzQuFlIyZfzfWw0Yumg=s64",
      "userId": "05120099045010655638"
     },
     "user_tz": 420
    },
    "id": "ikkqA5u9dBuZ",
    "outputId": "2292d279-6e29-4ac4-cc73-95b944e31a93"
   },
   "outputs": [],
   "source": [
    "from purpleair.sensor import Sensor\n",
    "\n",
    "#se = Sensor(2890)\n",
    "#df = se.parent.get_historical(weeks_to_get=1,\n",
    "#                             thingspeak_field='secondary')\n",
    "#print(df.head())"
   ]
  },
  {
   "cell_type": "code",
   "execution_count": 27,
   "metadata": {
    "ExecuteTime": {
     "end_time": "2020-10-13T22:39:13.802361Z",
     "start_time": "2020-10-13T22:17:34.470926Z"
    },
    "scrolled": true
   },
   "outputs": [
    {
     "name": "stdout",
     "output_type": "stream",
     "text": [
      "File 0/100, duration=0.7301859855651855 seconds, Sensor70353_daily.csv\n",
      "File 1/100, duration=0.42656636238098145 seconds, Sensor61655_daily.csv\n",
      "File 2/100, duration=0.5121846199035645 seconds, Sensor65713_daily.csv\n",
      "File 3/100, duration=2.957502841949463 seconds, Sensor64389_daily.csv\n",
      "File 4/100, duration=7.0248472690582275 seconds, Sensor18455_daily.csv\n",
      "File 5/100, duration=5.8260862827301025 seconds, Sensor61145_daily.csv\n",
      "File 6/100, duration=28.90781593322754 seconds, Sensor22879_daily.csv\n",
      "File 7/100, duration=16.436258792877197 seconds, Sensor23189_daily.csv\n",
      "File 8/100, duration=6.889652967453003 seconds, Sensor18883_daily.csv\n",
      "File 9/100, duration=15.98839807510376 seconds, Sensor47159_daily.csv\n",
      "File 10/100, duration=14.506592035293579 seconds, Sensor14285_daily.csv\n",
      "File 11/100, duration=6.714545249938965 seconds, Sensor64771_daily.csv\n",
      "File 12/100, duration=18.657651901245117 seconds, Sensor21361_daily.csv\n",
      "File 13/100, duration=15.87225890159607 seconds, Sensor38467_daily.csv\n",
      "File 14/100, duration=6.879608869552612 seconds, Sensor55481_daily.csv\n",
      "File 15/100, duration=2.4762990474700928 seconds, Sensor61591_daily.csv\n",
      "File 16/100, duration=24.530751943588257 seconds, Sensor5044_daily.csv\n",
      "File 17/100, duration=16.343730211257935 seconds, Sensor22475_daily.csv\n",
      "File 18/100, duration=1.7552990913391113 seconds, Sensor67229_daily.csv\n",
      "File 19/100, duration=15.603124856948853 seconds, Sensor35433_daily.csv\n",
      "File 20/100, duration=1.1114227771759033 seconds, Sensor72555_daily.csv\n",
      "File 21/100, duration=1.970512866973877 seconds, Sensor72289_daily.csv\n",
      "File 22/100, duration=8.185112953186035 seconds, Sensor57045_daily.csv\n",
      "File 23/100, duration=30.594009160995483 seconds, Sensor5650_daily.csv\n",
      "File 24/100, duration=2.8068113327026367 seconds, Sensor65747_daily.csv\n",
      "File 25/100, duration=2.3706586360931396 seconds, Sensor66337_daily.csv\n",
      "File 26/100, duration=2.480602979660034 seconds, Sensor66171_daily.csv\n",
      "File 27/100, duration=2.360283136367798 seconds, Sensor62291_daily.csv\n",
      "File 28/100, duration=1.817215919494629 seconds, Sensor73689_daily.csv\n",
      "File 29/100, duration=1.0691380500793457 seconds, Sensor72501_daily.csv\n",
      "File 30/100, duration=2.900789976119995 seconds, Sensor67227_daily.csv\n",
      "File 31/100, duration=2.4291446208953857 seconds, Sensor65873_daily.csv\n",
      "File 32/100, duration=7.4321129322052 seconds, Sensor53269_daily.csv\n",
      "File 33/100, duration=29.763964891433716 seconds, Sensor4615_daily.csv\n",
      "File 34/100, duration=0.9725339412689209 seconds, Sensor78133_daily.csv\n",
      "File 35/100, duration=3.2916290760040283 seconds, Sensor18755_daily.csv\n",
      "File 36/100, duration=0.6842522621154785 seconds, Sensor76397_daily.csv\n",
      "File 37/100, duration=13.093338012695312 seconds, Sensor15251_daily.csv\n",
      "File 38/100, duration=0.822922945022583 seconds, Sensor78349_daily.csv\n",
      "File 39/100, duration=24.059825897216797 seconds, Sensor19231_daily.csv\n",
      "File 40/100, duration=0.8529908657073975 seconds, Sensor78477_daily.csv\n",
      "File 41/100, duration=4.095257043838501 seconds, Sensor60903_daily.csv\n",
      "File 42/100, duration=18.566506147384644 seconds, Sensor26405_daily.csv\n",
      "File 43/100, duration=1.4363162517547607 seconds, Sensor70783_daily.csv\n",
      "File 44/100, duration=14.03251314163208 seconds, Sensor40757_daily.csv\n",
      "File 45/100, duration=23.89780282974243 seconds, Sensor34895_daily.csv\n",
      "File 46/100, duration=6.091367244720459 seconds, Sensor74865_daily.csv\n",
      "File 47/100, duration=3.8598670959472656 seconds, Sensor62377_daily.csv\n",
      "File 48/100, duration=3.8129708766937256 seconds, Sensor60735_daily.csv\n",
      "File 49/100, duration=12.090024948120117 seconds, Sensor36377_daily.csv\n",
      "File 50/100, duration=1.8384978771209717 seconds, Sensor64383_daily.csv\n",
      "File 51/100, duration=12.224955797195435 seconds, Sensor53185_daily.csv\n",
      "File 52/100, duration=2.336183786392212 seconds, Sensor65429_daily.csv\n",
      "File 53/100, duration=8.175854206085205 seconds, Sensor55501_daily.csv\n",
      "File 54/100, duration=13.485759973526001 seconds, Sensor39801_daily.csv\n",
      "File 55/100, duration=37.4136860370636 seconds, Sensor19727_daily.csv\n",
      "File 56/100, duration=14.278818130493164 seconds, Sensor19157_daily.csv\n",
      "File 57/100, duration=1.9695122241973877 seconds, Sensor68071_daily.csv\n",
      "File 58/100, duration=16.128309965133667 seconds, Sensor12811_daily.csv\n",
      "File 59/100, duration=3.458594799041748 seconds, Sensor62207_daily.csv\n",
      "File 60/100, duration=1.3904929161071777 seconds, Sensor71517_daily.csv\n",
      "File 61/100, duration=1.3317999839782715 seconds, Sensor70017_daily.csv\n",
      "File 62/100, duration=1.4328699111938477 seconds, Sensor68643_daily.csv\n",
      "File 63/100, duration=0.900911808013916 seconds, Sensor75739_daily.csv\n",
      "File 64/100, duration=7.231896162033081 seconds, Sensor53973_daily.csv\n",
      "File 65/100, duration=2.2859840393066406 seconds, Sensor69241_daily.csv\n",
      "File 66/100, duration=2.502808094024658 seconds, Sensor62233_daily.csv\n",
      "File 67/100, duration=2.252147912979126 seconds, Sensor69387_daily.csv\n",
      "File 68/100, duration=4.624466896057129 seconds, Sensor57853_daily.csv\n",
      "File 69/100, duration=6.390004873275757 seconds, Sensor19463_daily.csv\n",
      "File 70/100, duration=6.3409788608551025 seconds, Sensor54819_daily.csv\n",
      "File 71/100, duration=15.264389753341675 seconds, Sensor19425_daily.csv\n",
      "File 72/100, duration=2.674783945083618 seconds, Sensor62217_daily.csv\n",
      "File 73/100, duration=22.672849893569946 seconds, Sensor20149_daily.csv\n",
      "File 74/100, duration=2.2236783504486084 seconds, Sensor68697_daily.csv\n",
      "File 75/100, duration=1.7557740211486816 seconds, Sensor70529_daily.csv\n",
      "File 76/100, duration=0.8926432132720947 seconds, Sensor75765_daily.csv\n",
      "File 77/100, duration=21.077070951461792 seconds, Sensor19273_daily.csv\n",
      "File 78/100, duration=3.8756308555603027 seconds, Sensor20473_daily.csv\n",
      "File 79/100, duration=3.395906925201416 seconds, Sensor67839_daily.csv\n",
      "File 80/100, duration=5.0962018966674805 seconds, Sensor56175_daily.csv\n",
      "File 81/100, duration=2.914376974105835 seconds, Sensor66365_daily.csv\n",
      "File 82/100, duration=2.776886224746704 seconds, Sensor63593_daily.csv\n",
      "File 83/100, duration=16.431786060333252 seconds, Sensor18997_daily.csv\n",
      "File 84/100, duration=2.027103900909424 seconds, Sensor70645_daily.csv\n",
      "File 85/100, duration=7.875088930130005 seconds, Sensor15113_daily.csv\n",
      "File 86/100, duration=5.085227012634277 seconds, Sensor18287_daily.csv\n",
      "File 87/100, duration=1.5705831050872803 seconds, Sensor70491_daily.csv\n",
      "File 88/100, duration=0.7460310459136963 seconds, Sensor75833_daily.csv\n",
      "File 89/100, duration=1.9222242832183838 seconds, Sensor70713_daily.csv\n",
      "File 90/100, duration=1.2355678081512451 seconds, Sensor72079_daily.csv\n",
      "File 91/100, duration=2.5149738788604736 seconds, Sensor66451_daily.csv\n",
      "File 92/100, duration=0.8393261432647705 seconds, Sensor75053_daily.csv\n",
      "File 93/100, duration=15.234732866287231 seconds, Sensor36195_daily.csv\n",
      "File 94/100, duration=1.6364758014678955 seconds, Sensor70697_daily.csv\n",
      "File 95/100, duration=2.9227540493011475 seconds, Sensor68389_daily.csv\n",
      "File 96/100, duration=13.18439793586731 seconds, Sensor21851_daily.csv\n",
      "File 97/100, duration=20.620171070098877 seconds, Sensor22353_daily.csv\n",
      "File 98/100, duration=2.9993159770965576 seconds, Sensor65517_daily.csv\n",
      "File 99/100, duration=31.389430046081543 seconds, Sensor3848_daily.csv\n"
     ]
    }
   ],
   "source": [
    "def make_file_name(sensor_num):\n",
    "    return \"{}_daily.csv\".format(sensor_num)\n",
    "\n",
    "def get_greatest_sensor_num():\n",
    "    pass\n",
    "\n",
    "def bulk_load_daily(sensor_list):\n",
    "    data_dir = 'daily_data_dump'\n",
    "    \n",
    "    if not os.path.exists(data_dir):\n",
    "        print(\"data_dir doesn't exist\")\n",
    "        os.mkdir(data_dir, mode=0o666)\n",
    "        print(\"made data_dir\")\n",
    "    \n",
    "    curr_directory = os.path.dirname(os.getcwd())\n",
    "    \n",
    "    for i, sensor_num in enumerate(sensor_list.index):\n",
    "        start_time = time.time()\n",
    "        se = Sensor(sensor_num)\n",
    "\n",
    "        df = se.parent.get_daily(start_year=2018,\n",
    "                                   start_month=5,\n",
    "                                   end_year=2020,\n",
    "                                   end_month=10,\n",
    "                                    thingspeak_field='secondary')\n",
    "        \n",
    "        file_name = \"Sensor{}_daily.csv\".format(sensor_num)\n",
    "        \n",
    "        outfile = os.path.join(\n",
    "            file_name)\n",
    "        \n",
    "        df.to_csv(outfile)\n",
    "        \n",
    "        print(\"File {}/{}, duration={} seconds, {}\".format(i, \n",
    "                        len(sensor_list), \n",
    "                        time.time() - start_time,\n",
    "                        file_name\n",
    "                ))\n",
    "        time.sleep(5)\n",
    "        \n",
    "bulk_load_daily(bay_area_sensors[:100])\n"
   ]
  },
  {
   "cell_type": "code",
   "execution_count": 21,
   "metadata": {
    "ExecuteTime": {
     "end_time": "2020-10-13T22:15:15.518647Z",
     "start_time": "2020-10-13T22:15:15.506502Z"
    }
   },
   "outputs": [
    {
     "data": {
      "text/plain": [
       "6.00815e-05"
      ]
     },
     "execution_count": 21,
     "metadata": {},
     "output_type": "execute_result"
    }
   ],
   "source": [
    "start = time.time()\n",
    "round(time.time() - start, 10)"
   ]
  },
  {
   "cell_type": "code",
   "execution_count": null,
   "metadata": {
    "ExecuteTime": {
     "end_time": "2020-10-13T22:01:10.988906Z",
     "start_time": "2020-10-13T22:00:42.583Z"
    }
   },
   "outputs": [],
   "source": [
    "import datetime\n",
    "\n",
    "start_date = datetime.datetime(month=2, year=2018, day=1)\n",
    "end_date = datetime.datetime(month=2, year=2020, day=1)\n",
    "timedelta = start_date - end_date\n",
    "print(timedelta.days * 24)\n",
    "\n",
    "timedelta8000 = datetime.timedelta(days=8000)\n",
    "print(timedelta8000.days / 365)"
   ]
  },
  {
   "cell_type": "code",
   "execution_count": null,
   "metadata": {
    "ExecuteTime": {
     "end_time": "2020-10-13T22:01:10.997476Z",
     "start_time": "2020-10-13T22:00:42.592Z"
    },
    "colab": {
     "base_uri": "https://localhost:8080/",
     "height": 450
    },
    "executionInfo": {
     "elapsed": 23688,
     "status": "ok",
     "timestamp": 1602269239105,
     "user": {
      "displayName": "Aaron Deich",
      "photoUrl": "https://lh3.googleusercontent.com/a-/AOh14Gh-8IaCIEoKGJlLv8fkTUnzzQuFlIyZfzfWw0Yumg=s64",
      "userId": "05120099045010655638"
     },
     "user_tz": 420
    },
    "id": "yAIF12Zgg772",
    "outputId": "10ae33a8-e433-432a-e7c8-5dccd5983eae"
   },
   "outputs": [],
   "source": [
    "import seaborn as sns\n",
    "\n",
    "print(df.columns)\n",
    "\n",
    "sns.lineplot(data=df, x='created_at', y='2.5um/dl')\n",
    "sns.lineplot(data=df, x='created_at', y='1.0um/dl')"
   ]
  }
 ],
 "metadata": {
  "colab": {
   "authorship_tag": "ABX9TyM8PXcg5wSFmNusFO9udL0i",
   "name": "purple_air_data_acquisition.ipynb",
   "provenance": []
  },
  "kernelspec": {
   "display_name": "Python 3",
   "language": "python",
   "name": "python3"
  },
  "language_info": {
   "codemirror_mode": {
    "name": "ipython",
    "version": 3
   },
   "file_extension": ".py",
   "mimetype": "text/x-python",
   "name": "python",
   "nbconvert_exporter": "python",
   "pygments_lexer": "ipython3",
   "version": "3.7.0"
  },
  "toc": {
   "base_numbering": 1,
   "nav_menu": {},
   "number_sections": true,
   "sideBar": true,
   "skip_h1_title": false,
   "title_cell": "Table of Contents",
   "title_sidebar": "Contents",
   "toc_cell": false,
   "toc_position": {},
   "toc_section_display": true,
   "toc_window_display": false
  }
 },
 "nbformat": 4,
 "nbformat_minor": 1
}
