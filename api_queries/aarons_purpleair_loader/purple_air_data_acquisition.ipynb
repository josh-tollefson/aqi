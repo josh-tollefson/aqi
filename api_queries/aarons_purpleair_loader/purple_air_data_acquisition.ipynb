{
 "cells": [
  {
   "cell_type": "code",
   "execution_count": 12,
   "metadata": {
    "ExecuteTime": {
     "end_time": "2020-10-15T20:49:40.486978Z",
     "start_time": "2020-10-15T20:49:40.425750Z"
    }
   },
   "outputs": [],
   "source": [
    "import numpy as np\n",
    "import pandas as pd\n",
    "import missingno as msno\n",
    "import time\n",
    "import os\n",
    "from purpleair.sensor import Sensor\n",
    "\n",
    "\n",
    "import geopandas as gpd\n",
    "from shapely.geometry import Point, Polygon\n",
    "import matplotlib.pyplot as plt\n",
    "%matplotlib inline"
   ]
  },
  {
   "cell_type": "code",
   "execution_count": 13,
   "metadata": {
    "ExecuteTime": {
     "end_time": "2020-10-15T20:49:50.824513Z",
     "start_time": "2020-10-15T20:49:50.810355Z"
    },
    "colab": {
     "base_uri": "https://localhost:8080/",
     "height": 153
    },
    "executionInfo": {
     "elapsed": 13890,
     "status": "ok",
     "timestamp": 1602269229179,
     "user": {
      "displayName": "Aaron Deich",
      "photoUrl": "https://lh3.googleusercontent.com/a-/AOh14Gh-8IaCIEoKGJlLv8fkTUnzzQuFlIyZfzfWw0Yumg=s64",
      "userId": "05120099045010655638"
     },
     "user_tz": 420
    },
    "id": "YP2Pn3CFlyOY",
    "outputId": "5fb34267-73ef-40ea-afaf-d630d0803344"
   },
   "outputs": [],
   "source": [
    "# load the states shape data\n",
    "def load_states_data():\n",
    "    !rm states*\n",
    "    !curl -LJO https://github.com/josh-tollefson/aqi/raw/master/notebooks/states_21basic.zip\n",
    "    !ls \n",
    "    !unzip states_21basic.zip \n",
    "    !ls\n"
   ]
  },
  {
   "cell_type": "code",
   "execution_count": 4,
   "metadata": {
    "ExecuteTime": {
     "end_time": "2020-10-15T20:32:22.503719Z",
     "start_time": "2020-10-15T20:32:22.292027Z"
    },
    "colab": {
     "base_uri": "https://localhost:8080/",
     "height": 174
    },
    "executionInfo": {
     "elapsed": 14394,
     "status": "ok",
     "timestamp": 1602269229697,
     "user": {
      "displayName": "Aaron Deich",
      "photoUrl": "https://lh3.googleusercontent.com/a-/AOh14Gh-8IaCIEoKGJlLv8fkTUnzzQuFlIyZfzfWw0Yumg=s64",
      "userId": "05120099045010655638"
     },
     "user_tz": 420
    },
    "id": "2eoutqCtr7YL",
    "outputId": "160ad348-70f4-429e-c917-e4ee8b9a3cf7"
   },
   "outputs": [
    {
     "data": {
      "text/html": [
       "<div>\n",
       "<style scoped>\n",
       "    .dataframe tbody tr th:only-of-type {\n",
       "        vertical-align: middle;\n",
       "    }\n",
       "\n",
       "    .dataframe tbody tr th {\n",
       "        vertical-align: top;\n",
       "    }\n",
       "\n",
       "    .dataframe thead th {\n",
       "        text-align: right;\n",
       "    }\n",
       "</style>\n",
       "<table border=\"1\" class=\"dataframe\">\n",
       "  <thead>\n",
       "    <tr style=\"text-align: right;\">\n",
       "      <th></th>\n",
       "      <th>STATE_NAME</th>\n",
       "      <th>DRAWSEQ</th>\n",
       "      <th>STATE_FIPS</th>\n",
       "      <th>SUB_REGION</th>\n",
       "      <th>STATE_ABBR</th>\n",
       "      <th>geometry</th>\n",
       "    </tr>\n",
       "  </thead>\n",
       "  <tbody>\n",
       "    <tr>\n",
       "      <th>0</th>\n",
       "      <td>Hawaii</td>\n",
       "      <td>1</td>\n",
       "      <td>15</td>\n",
       "      <td>Pacific</td>\n",
       "      <td>HI</td>\n",
       "      <td>MULTIPOLYGON (((-160.07380 22.00418, -160.0497...</td>\n",
       "    </tr>\n",
       "    <tr>\n",
       "      <th>1</th>\n",
       "      <td>Washington</td>\n",
       "      <td>2</td>\n",
       "      <td>53</td>\n",
       "      <td>Pacific</td>\n",
       "      <td>WA</td>\n",
       "      <td>MULTIPOLYGON (((-122.40202 48.22522, -122.4628...</td>\n",
       "    </tr>\n",
       "  </tbody>\n",
       "</table>\n",
       "</div>"
      ],
      "text/plain": [
       "   STATE_NAME  DRAWSEQ STATE_FIPS SUB_REGION STATE_ABBR  \\\n",
       "0      Hawaii        1         15    Pacific         HI   \n",
       "1  Washington        2         53    Pacific         WA   \n",
       "\n",
       "                                            geometry  \n",
       "0  MULTIPOLYGON (((-160.07380 22.00418, -160.0497...  \n",
       "1  MULTIPOLYGON (((-122.40202 48.22522, -122.4628...  "
      ]
     },
     "metadata": {},
     "output_type": "display_data"
    },
    {
     "data": {
      "text/html": [
       "<div>\n",
       "<style scoped>\n",
       "    .dataframe tbody tr th:only-of-type {\n",
       "        vertical-align: middle;\n",
       "    }\n",
       "\n",
       "    .dataframe tbody tr th {\n",
       "        vertical-align: top;\n",
       "    }\n",
       "\n",
       "    .dataframe thead th {\n",
       "        text-align: right;\n",
       "    }\n",
       "</style>\n",
       "<table border=\"1\" class=\"dataframe\">\n",
       "  <thead>\n",
       "    <tr style=\"text-align: right;\">\n",
       "      <th></th>\n",
       "      <th>STATE_NAME</th>\n",
       "      <th>DRAWSEQ</th>\n",
       "      <th>STATE_FIPS</th>\n",
       "      <th>SUB_REGION</th>\n",
       "      <th>STATE_ABBR</th>\n",
       "      <th>geometry</th>\n",
       "    </tr>\n",
       "  </thead>\n",
       "  <tbody>\n",
       "    <tr>\n",
       "      <th>50</th>\n",
       "      <td>Alaska</td>\n",
       "      <td>51</td>\n",
       "      <td>02</td>\n",
       "      <td>Pacific</td>\n",
       "      <td>AK</td>\n",
       "      <td>MULTIPOLYGON (((-161.33379 58.73325, -161.3824...</td>\n",
       "    </tr>\n",
       "  </tbody>\n",
       "</table>\n",
       "</div>"
      ],
      "text/plain": [
       "   STATE_NAME  DRAWSEQ STATE_FIPS SUB_REGION STATE_ABBR  \\\n",
       "50     Alaska       51         02    Pacific         AK   \n",
       "\n",
       "                                             geometry  \n",
       "50  MULTIPOLYGON (((-161.33379 58.73325, -161.3824...  "
      ]
     },
     "metadata": {},
     "output_type": "display_data"
    }
   ],
   "source": [
    "usa = gpd.read_file('states.shp')\n",
    "display(usa.head(2))\n",
    "display(usa.tail(1))"
   ]
  },
  {
   "cell_type": "code",
   "execution_count": 14,
   "metadata": {
    "ExecuteTime": {
     "end_time": "2020-10-15T20:50:40.262513Z",
     "start_time": "2020-10-15T20:50:36.274866Z"
    },
    "colab": {
     "base_uri": "https://localhost:8080/",
     "height": 357
    },
    "executionInfo": {
     "elapsed": 21467,
     "status": "ok",
     "timestamp": 1602269236798,
     "user": {
      "displayName": "Aaron Deich",
      "photoUrl": "https://lh3.googleusercontent.com/a-/AOh14Gh-8IaCIEoKGJlLv8fkTUnzzQuFlIyZfzfWw0Yumg=s64",
      "userId": "05120099045010655638"
     },
     "user_tz": 420
    },
    "id": "Iked2ODzB9RN",
    "outputId": "fdf4f565-cf67-45b9-9124-495ab98992f6"
   },
   "outputs": [
    {
     "name": "stdout",
     "output_type": "stream",
     "text": [
      "Initialized 13,904 sensors!\n"
     ]
    },
    {
     "data": {
      "text/html": [
       "<div>\n",
       "<style scoped>\n",
       "    .dataframe tbody tr th:only-of-type {\n",
       "        vertical-align: middle;\n",
       "    }\n",
       "\n",
       "    .dataframe tbody tr th {\n",
       "        vertical-align: top;\n",
       "    }\n",
       "\n",
       "    .dataframe thead th {\n",
       "        text-align: right;\n",
       "    }\n",
       "</style>\n",
       "<table border=\"1\" class=\"dataframe\">\n",
       "  <thead>\n",
       "    <tr style=\"text-align: right;\">\n",
       "      <th></th>\n",
       "      <th>parent</th>\n",
       "      <th>lat</th>\n",
       "      <th>lon</th>\n",
       "      <th>name</th>\n",
       "      <th>location_type</th>\n",
       "      <th>pm_2.5</th>\n",
       "      <th>temp_f</th>\n",
       "      <th>temp_c</th>\n",
       "      <th>humidity</th>\n",
       "      <th>pressure</th>\n",
       "      <th>...</th>\n",
       "      <th>last_update_check</th>\n",
       "      <th>created</th>\n",
       "      <th>uptime</th>\n",
       "      <th>is_owner</th>\n",
       "      <th>10min_avg</th>\n",
       "      <th>30min_avg</th>\n",
       "      <th>1hour_avg</th>\n",
       "      <th>6hour_avg</th>\n",
       "      <th>1day_avg</th>\n",
       "      <th>1week_avg</th>\n",
       "    </tr>\n",
       "    <tr>\n",
       "      <th>id</th>\n",
       "      <th></th>\n",
       "      <th></th>\n",
       "      <th></th>\n",
       "      <th></th>\n",
       "      <th></th>\n",
       "      <th></th>\n",
       "      <th></th>\n",
       "      <th></th>\n",
       "      <th></th>\n",
       "      <th></th>\n",
       "      <th></th>\n",
       "      <th></th>\n",
       "      <th></th>\n",
       "      <th></th>\n",
       "      <th></th>\n",
       "      <th></th>\n",
       "      <th></th>\n",
       "      <th></th>\n",
       "      <th></th>\n",
       "      <th></th>\n",
       "      <th></th>\n",
       "    </tr>\n",
       "  </thead>\n",
       "  <tbody>\n",
       "    <tr>\n",
       "      <th>14633</th>\n",
       "      <td>None</td>\n",
       "      <td>37.275561</td>\n",
       "      <td>-121.964134</td>\n",
       "      <td>Hazelwood canary</td>\n",
       "      <td>outside</td>\n",
       "      <td>3.07</td>\n",
       "      <td>102.0</td>\n",
       "      <td>38.888889</td>\n",
       "      <td>8.0</td>\n",
       "      <td>1008.09</td>\n",
       "      <td>...</td>\n",
       "      <td>None</td>\n",
       "      <td>None</td>\n",
       "      <td>None</td>\n",
       "      <td>False</td>\n",
       "      <td>3.34</td>\n",
       "      <td>3.02</td>\n",
       "      <td>2.62</td>\n",
       "      <td>3.85</td>\n",
       "      <td>6.66</td>\n",
       "      <td>21.70</td>\n",
       "    </tr>\n",
       "    <tr>\n",
       "      <th>25999</th>\n",
       "      <td>None</td>\n",
       "      <td>30.053808</td>\n",
       "      <td>-95.494643</td>\n",
       "      <td>Villages of Bridgestone AQI</td>\n",
       "      <td>outside</td>\n",
       "      <td>16.16</td>\n",
       "      <td>97.0</td>\n",
       "      <td>36.111111</td>\n",
       "      <td>40.0</td>\n",
       "      <td>1006.84</td>\n",
       "      <td>...</td>\n",
       "      <td>None</td>\n",
       "      <td>None</td>\n",
       "      <td>None</td>\n",
       "      <td>False</td>\n",
       "      <td>15.75</td>\n",
       "      <td>15.30</td>\n",
       "      <td>15.21</td>\n",
       "      <td>18.48</td>\n",
       "      <td>18.74</td>\n",
       "      <td>17.81</td>\n",
       "    </tr>\n",
       "    <tr>\n",
       "      <th>14091</th>\n",
       "      <td>None</td>\n",
       "      <td>37.883620</td>\n",
       "      <td>-122.070087</td>\n",
       "      <td>WC Hillside</td>\n",
       "      <td>outside</td>\n",
       "      <td>0.91</td>\n",
       "      <td>92.0</td>\n",
       "      <td>33.333333</td>\n",
       "      <td>11.0</td>\n",
       "      <td>1003.22</td>\n",
       "      <td>...</td>\n",
       "      <td>None</td>\n",
       "      <td>None</td>\n",
       "      <td>None</td>\n",
       "      <td>False</td>\n",
       "      <td>1.09</td>\n",
       "      <td>1.18</td>\n",
       "      <td>1.31</td>\n",
       "      <td>2.91</td>\n",
       "      <td>5.90</td>\n",
       "      <td>28.49</td>\n",
       "    </tr>\n",
       "    <tr>\n",
       "      <th>42073</th>\n",
       "      <td>None</td>\n",
       "      <td>47.185173</td>\n",
       "      <td>-122.176855</td>\n",
       "      <td>#1</td>\n",
       "      <td>outside</td>\n",
       "      <td>6.47</td>\n",
       "      <td>64.0</td>\n",
       "      <td>17.777778</td>\n",
       "      <td>50.0</td>\n",
       "      <td>1013.89</td>\n",
       "      <td>...</td>\n",
       "      <td>None</td>\n",
       "      <td>None</td>\n",
       "      <td>None</td>\n",
       "      <td>False</td>\n",
       "      <td>6.21</td>\n",
       "      <td>5.46</td>\n",
       "      <td>4.97</td>\n",
       "      <td>3.57</td>\n",
       "      <td>3.36</td>\n",
       "      <td>18.67</td>\n",
       "    </tr>\n",
       "    <tr>\n",
       "      <th>53069</th>\n",
       "      <td>None</td>\n",
       "      <td>47.190197</td>\n",
       "      <td>-122.177992</td>\n",
       "      <td>#2</td>\n",
       "      <td>outside</td>\n",
       "      <td>6.66</td>\n",
       "      <td>77.0</td>\n",
       "      <td>25.000000</td>\n",
       "      <td>33.0</td>\n",
       "      <td>1013.72</td>\n",
       "      <td>...</td>\n",
       "      <td>None</td>\n",
       "      <td>None</td>\n",
       "      <td>None</td>\n",
       "      <td>False</td>\n",
       "      <td>5.84</td>\n",
       "      <td>5.15</td>\n",
       "      <td>4.73</td>\n",
       "      <td>3.49</td>\n",
       "      <td>3.31</td>\n",
       "      <td>19.81</td>\n",
       "    </tr>\n",
       "  </tbody>\n",
       "</table>\n",
       "<p>5 rows × 43 columns</p>\n",
       "</div>"
      ],
      "text/plain": [
       "      parent        lat         lon                          name  \\\n",
       "id                                                                  \n",
       "14633   None  37.275561 -121.964134             Hazelwood canary    \n",
       "25999   None  30.053808  -95.494643   Villages of Bridgestone AQI   \n",
       "14091   None  37.883620 -122.070087                   WC Hillside   \n",
       "42073   None  47.185173 -122.176855                            #1   \n",
       "53069   None  47.190197 -122.177992                            #2   \n",
       "\n",
       "      location_type  pm_2.5  temp_f     temp_c  humidity  pressure  ...  \\\n",
       "id                                                                  ...   \n",
       "14633       outside    3.07   102.0  38.888889       8.0   1008.09  ...   \n",
       "25999       outside   16.16    97.0  36.111111      40.0   1006.84  ...   \n",
       "14091       outside    0.91    92.0  33.333333      11.0   1003.22  ...   \n",
       "42073       outside    6.47    64.0  17.777778      50.0   1013.89  ...   \n",
       "53069       outside    6.66    77.0  25.000000      33.0   1013.72  ...   \n",
       "\n",
       "      last_update_check created uptime is_owner 10min_avg 30min_avg 1hour_avg  \\\n",
       "id                                                                              \n",
       "14633              None    None   None    False      3.34      3.02      2.62   \n",
       "25999              None    None   None    False     15.75     15.30     15.21   \n",
       "14091              None    None   None    False      1.09      1.18      1.31   \n",
       "42073              None    None   None    False      6.21      5.46      4.97   \n",
       "53069              None    None   None    False      5.84      5.15      4.73   \n",
       "\n",
       "      6hour_avg 1day_avg 1week_avg  \n",
       "id                                  \n",
       "14633      3.85     6.66     21.70  \n",
       "25999     18.48    18.74     17.81  \n",
       "14091      2.91     5.90     28.49  \n",
       "42073      3.57     3.36     18.67  \n",
       "53069      3.49     3.31     19.81  \n",
       "\n",
       "[5 rows x 43 columns]"
      ]
     },
     "execution_count": 14,
     "metadata": {},
     "output_type": "execute_result"
    }
   ],
   "source": [
    "def get_sensor_list():\n",
    "    from purpleair.network import SensorList\n",
    "    return SensorList()  \n",
    "    \n",
    "p = get_sensor_list()\n",
    "\n",
    "sensors_df = p.to_dataframe(sensor_filter='column',\n",
    "                    column='6hour_avg',\n",
    "                    channel='parent')\n",
    "sensors_df.to_csv('Sensors_from_purpleair.csv')\n",
    "sensors_df.head()\n"
   ]
  },
  {
   "cell_type": "code",
   "execution_count": 6,
   "metadata": {
    "ExecuteTime": {
     "end_time": "2020-10-15T20:32:53.804635Z",
     "start_time": "2020-10-15T20:32:52.118425Z"
    },
    "colab": {
     "base_uri": "https://localhost:8080/",
     "height": 832
    },
    "executionInfo": {
     "elapsed": 22239,
     "status": "ok",
     "timestamp": 1602269237584,
     "user": {
      "displayName": "Aaron Deich",
      "photoUrl": "https://lh3.googleusercontent.com/a-/AOh14Gh-8IaCIEoKGJlLv8fkTUnzzQuFlIyZfzfWw0Yumg=s64",
      "userId": "05120099045010655638"
     },
     "user_tz": 420
    },
    "id": "cZ_rceh1DOKp",
    "outputId": "96600456-d9ea-416a-da11-c1c46497ddea"
   },
   "outputs": [
    {
     "name": "stdout",
     "output_type": "stream",
     "text": [
      "3901\n",
      "Index(['parent', 'lat', 'lon', 'name', 'location_type', 'pm_2.5', 'temp_f',\n",
      "       'temp_c', 'humidity', 'pressure', 'p_0_3_um', 'p_0_5_um', 'p_1_0_um',\n",
      "       'p_2_5_um', 'p_5_0_um', 'p_10_0_um', 'pm1_0_cf_1', 'pm2_5_cf_1',\n",
      "       'pm10_0_cf_1', 'pm1_0_atm', 'pm2_5_atm', 'pm10_0_atm', 'last_seen',\n",
      "       'model', 'adc', 'rssi', 'hidden', 'flagged', 'downgraded', 'age',\n",
      "       'brightness', 'hardware', 'version', 'last_update_check', 'created',\n",
      "       'uptime', 'is_owner', '10min_avg', '30min_avg', '1hour_avg',\n",
      "       '6hour_avg', '1day_avg', '1week_avg'],\n",
      "      dtype='object')\n"
     ]
    },
    {
     "data": {
      "text/plain": [
       "id\n",
       "14633                            Hazelwood canary \n",
       "14091                                  WC Hillside\n",
       "64797        1 5th Avenue Marina Bldg 28 @ El 9 Ft\n",
       "69629                                1 Iverson Way\n",
       "67357               10 Alhambra Ct. Portola Valley\n",
       "                           ...                    \n",
       "70701                            Zhanger Household\n",
       "75223                                   Zinn Drive\n",
       "64013                                      Zinnias\n",
       "19363                                     Zoe Zone\n",
       "67815    [Outdoor] Great Hwy bw Moraga and Noriega\n",
       "Name: name, Length: 3901, dtype: object"
      ]
     },
     "metadata": {},
     "output_type": "display_data"
    },
    {
     "data": {
      "image/png": "[encoded data removed]",
      "text/plain": [
       "<Figure size 576x576 with 1 Axes>"
      ]
     },
     "metadata": {
      "needs_background": "light"
     },
     "output_type": "display_data"
    }
   ],
   "source": [
    "\n",
    "def get_geobox(df, center_lat=37.5, center_lon=-122, width_degrees=1.5):\n",
    "  return df.loc[  \\\n",
    "                (df['lat'] > center_lat - width_degrees) & \\\n",
    "                (df['lat'] < center_lat + width_degrees) & \\\n",
    "                (df['lon'] < center_lon + width_degrees) & \\\n",
    "                (df['lon'] > center_lon - width_degrees) & \\\n",
    "                (df['location_type'] == 'outside')]\n",
    "\n",
    "\n",
    "\n",
    "def make_CA_plot(df, title='Title goes here', size=(8, 8)):\n",
    "    usa = gpd.read_file('states.shp')\n",
    "    fig, ax = plt.subplots(figsize=size)\n",
    "    usa[usa.STATE_ABBR == 'CA'].plot(ax=ax, alpha=0.2)\n",
    "    \n",
    "    point_data = gpd.GeoDataFrame(\n",
    "        df, geometry=gpd.points_from_xy(df.lon, df.lat))\n",
    "    #display(point_data.head())\n",
    "    \n",
    "    point_data.plot(ax=ax, legend=True)\n",
    "    \n",
    "    ax.set_title(title)\n",
    "\n",
    "bay_area_sensors = get_geobox(df=sensors_df)\n",
    "\n",
    "print(len(bay_area_sensors))\n",
    "print(bay_area_sensors.columns)\n",
    "display(bay_area_sensors.name)\n",
    "make_CA_plot(df=bay_area_sensors)"
   ]
  },
  {
   "cell_type": "code",
   "execution_count": 7,
   "metadata": {
    "ExecuteTime": {
     "end_time": "2020-10-15T20:32:53.845965Z",
     "start_time": "2020-10-15T20:32:53.835711Z"
    },
    "colab": {
     "base_uri": "https://localhost:8080/",
     "height": 170
    },
    "executionInfo": {
     "elapsed": 23723,
     "status": "ok",
     "timestamp": 1602269239104,
     "user": {
      "displayName": "Aaron Deich",
      "photoUrl": "https://lh3.googleusercontent.com/a-/AOh14Gh-8IaCIEoKGJlLv8fkTUnzzQuFlIyZfzfWw0Yumg=s64",
      "userId": "05120099045010655638"
     },
     "user_tz": 420
    },
    "id": "ikkqA5u9dBuZ",
    "outputId": "2292d279-6e29-4ac4-cc73-95b944e31a93"
   },
   "outputs": [],
   "source": [
    "\n"
   ]
  },
  {
   "cell_type": "code",
   "execution_count": 8,
   "metadata": {
    "ExecuteTime": {
     "end_time": "2020-10-15T20:34:05.590617Z",
     "start_time": "2020-10-15T20:32:53.854458Z"
    },
    "collapsed": true
   },
   "outputs": [
    {
     "name": "stdout",
     "output_type": "stream",
     "text": [
      "Length of full set: 3901\n",
      "Length of downloaded set: 3888\n",
      "Length of remaining: 18\n",
      "Sample from full: 65547\n",
      "Sample from downloaded: 65547\n",
      "File 0/18, duration=2.4064040184020996 seconds, Sensor70113_daily.csv\n",
      "File 1/18, duration=1.3699591159820557 seconds, Sensor78785_daily.csv\n",
      "File 2/18, duration=1.3480000495910645 seconds, Sensor77635_daily.csv\n",
      "File 3/18, duration=1.8323867321014404 seconds, Sensor76611_daily.csv\n",
      "File 4/18, duration=4.39143705368042 seconds, Sensor22503_daily.csv\n",
      "File 5/18, duration=1.4990849494934082 seconds, Sensor75529_daily.csv\n",
      "File 6/18, duration=1.4957640171051025 seconds, Sensor78729_daily.csv\n",
      "File 7/18, duration=6.5688698291778564 seconds, Sensor22409_daily.csv\n",
      "File 8/18, duration=11.484323978424072 seconds, Sensor14891_daily.csv\n",
      "File 9/18, duration=1.8607120513916016 seconds, Sensor22445_daily.csv\n",
      "File 10/18, duration=7.594142913818359 seconds, Sensor23597_daily.csv\n",
      "File 11/18, duration=2.6908700466156006 seconds, Sensor22451_daily.csv\n",
      "File 12/18, duration=1.15071702003479 seconds, Sensor78453_daily.csv\n",
      "File 13/18, duration=1.1790008544921875 seconds, Sensor79959_daily.csv\n",
      "File 14/18, duration=1.602349042892456 seconds, Sensor77337_daily.csv\n",
      "File 15/18, duration=1.4548249244689941 seconds, Sensor79163_daily.csv\n",
      "File 16/18, duration=1.8861827850341797 seconds, Sensor23933_daily.csv\n",
      "File 17/18, duration=1.7941887378692627 seconds, Sensor23167_daily.csv\n"
     ]
    }
   ],
   "source": [
    "def get_existing_sensor_files():\n",
    "    filenames = os.listdir('data_daily')\n",
    "    \n",
    "    sensor_list = []\n",
    "    \n",
    "    for filename in filenames:\n",
    "        first_stuff = filename.split('_')[0]\n",
    "        sensor_number = first_stuff[6:]\n",
    "        sensor_list.append(int(sensor_number))\n",
    "        \n",
    "    #print(len(sensor_list) - len(set(sensor_list)))\n",
    "    \n",
    "    return set(sensor_list)\n",
    "    \n",
    "\n",
    "def get_non_downloaded_sensor_list(full_list, print_report=False):\n",
    "    full_sensor_set = set(bay_area_sensors.index)\n",
    "    downloaded_sensor_set = get_existing_sensor_files()\n",
    "    \n",
    "    if print_report:\n",
    "        print(\"Length of full set: {}\".format(len(full_sensor_set)))\n",
    "        print(\"Length of downloaded set: {}\".format(len(downloaded_sensor_set)))\n",
    "        print(\"Length of remaining: {}\".format(len(full_sensor_set - downloaded_sensor_set)))\n",
    "        print(\"Sample from full: {}\".format(list(full_sensor_set)[0]))\n",
    "        print(\"Sample from downloaded: {}\".format(list(downloaded_sensor_set)[0]))\n",
    "    \n",
    "    return list(full_sensor_set - downloaded_sensor_set)\n",
    "\n",
    "\n",
    "# let this loop run until all files are downloaded. If stopped and restarted, \n",
    "# this will check the directory's contents and pick up where it left off.\n",
    "def bulk_load_daily(sensor_list):\n",
    "    data_dir = 'daily_data_dump'\n",
    "    \n",
    "    if not os.path.exists(data_dir):\n",
    "        print(\"data_dir doesn't exist\")\n",
    "        os.mkdir(data_dir, mode=0o666)\n",
    "        print(\"made data_dir\")\n",
    "    \n",
    "    curr_directory = os.path.dirname(os.getcwd())\n",
    "    \n",
    "    download_list = get_non_downloaded_sensor_list(\n",
    "        full_list=sensor_list, \n",
    "        print_report=True)\n",
    "    \n",
    "    for i, sensor_num in enumerate(download_list):\n",
    "        try: \n",
    "            start_time = time.time()\n",
    "            se = Sensor(sensor_num)\n",
    "\n",
    "            df = se.parent.get_daily(start_year=2018,\n",
    "                                       start_month=5,\n",
    "                                       end_year=2020,\n",
    "                                       end_month=10,\n",
    "                                        end_day = 13,\n",
    "                                        thingspeak_field='secondary')\n",
    "\n",
    "            file_name = \"Sensor{}_daily.csv\".format(sensor_num)\n",
    "\n",
    "            outfile = os.path.join(\n",
    "                os.getcwd(),\n",
    "                'data_daily',\n",
    "                file_name)\n",
    "\n",
    "            df.to_csv(outfile)\n",
    "\n",
    "            print(\"File {}/{}, duration={} seconds, {}\".format(i, \n",
    "                            len(download_list), \n",
    "                            time.time() - start_time,\n",
    "                            file_name\n",
    "                    ))\n",
    "            time.sleep(1)\n",
    "        except BaseException as BE:\n",
    "            print (\"{}\".format(BE))\n",
    "            time.sleep(5)\n",
    "            pass\n",
    "        \n",
    "bulk_load_daily(bay_area_sensors)\n"
   ]
  }
 ],
 "metadata": {
  "colab": {
   "authorship_tag": "ABX9TyM8PXcg5wSFmNusFO9udL0i",
   "name": "purple_air_data_acquisition.ipynb",
   "provenance": []
  },
  "kernelspec": {
   "display_name": "Python 3",
   "language": "python",
   "name": "python3"
  },
  "language_info": {
   "codemirror_mode": {
    "name": "ipython",
    "version": 3
   },
   "file_extension": ".py",
   "mimetype": "text/x-python",
   "name": "python",
   "nbconvert_exporter": "python",
   "pygments_lexer": "ipython3",
   "version": "3.7.0"
  },
  "toc": {
   "base_numbering": 1,
   "nav_menu": {},
   "number_sections": true,
   "sideBar": true,
   "skip_h1_title": false,
   "title_cell": "Table of Contents",
   "title_sidebar": "Contents",
   "toc_cell": false,
   "toc_position": {},
   "toc_section_display": true,
   "toc_window_display": false
  }
 },
 "nbformat": 4,
 "nbformat_minor": 1
}
