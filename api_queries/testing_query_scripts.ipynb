{
 "cells": [
  {
   "cell_type": "code",
   "execution_count": 5,
   "metadata": {
    "ExecuteTime": {
     "end_time": "2020-09-17T20:35:57.737812Z",
     "start_time": "2020-09-17T20:35:57.716183Z"
    }
   },
   "outputs": [],
   "source": [
    "import loaders_for_EPA as EPA\n",
    "import query_EPA_class\n",
    "from importlib import reload  \n"
   ]
  },
  {
   "cell_type": "code",
   "execution_count": 30,
   "metadata": {
    "ExecuteTime": {
     "end_time": "2020-09-17T21:12:56.390136Z",
     "start_time": "2020-09-17T21:12:56.360404Z"
    }
   },
   "outputs": [
    {
     "name": "stdout",
     "output_type": "stream",
     "text": [
      "CURRENT DATES:  ['20160101', '20161231']\n",
      "file name: /Users/aaron/Desktop/aqi/raw_data/O3_20160101_20161231.csv\n",
      "File '/Users/aaron/Desktop/aqi/raw_data/O3_20160101_20161231.csv' already exists! Please delete it and then run this again.\n"
     ]
    }
   ],
   "source": [
    "reload(EPA)\n",
    "\n",
    "#EPA.new_run_loop()\n",
    "EPA.test_single_query()"
   ]
  }
 ],
 "metadata": {
  "kernelspec": {
   "display_name": "Python 3",
   "language": "python",
   "name": "python3"
  },
  "language_info": {
   "codemirror_mode": {
    "name": "ipython",
    "version": 3
   },
   "file_extension": ".py",
   "mimetype": "text/x-python",
   "name": "python",
   "nbconvert_exporter": "python",
   "pygments_lexer": "ipython3",
   "version": "3.7.0"
  },
  "toc": {
   "base_numbering": 1,
   "nav_menu": {},
   "number_sections": true,
   "sideBar": true,
   "skip_h1_title": false,
   "title_cell": "Table of Contents",
   "title_sidebar": "Contents",
   "toc_cell": false,
   "toc_position": {},
   "toc_section_display": true,
   "toc_window_display": false
  }
 },
 "nbformat": 4,
 "nbformat_minor": 4
}
